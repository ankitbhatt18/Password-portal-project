{
 "cells": [
  {
   "cell_type": "code",
   "execution_count": 4,
   "id": "343fb5de",
   "metadata": {},
   "outputs": [],
   "source": [
    "f=open(\"userpass.txt\",\"w\")"
   ]
  },
  {
   "cell_type": "code",
   "execution_count": 5,
   "id": "54c48df8",
   "metadata": {},
   "outputs": [
    {
     "data": {
      "text/plain": [
       "12"
      ]
     },
     "execution_count": 5,
     "metadata": {},
     "output_type": "execute_result"
    }
   ],
   "source": [
    "f.write(\"ankitbhatt18\")"
   ]
  },
  {
   "cell_type": "code",
   "execution_count": 6,
   "id": "4640189b",
   "metadata": {},
   "outputs": [],
   "source": [
    "f.close()"
   ]
  },
  {
   "cell_type": "code",
   "execution_count": 7,
   "id": "a3970d1e",
   "metadata": {},
   "outputs": [],
   "source": [
    "f1=open(\"pass.txt\",\"w\")"
   ]
  },
  {
   "cell_type": "code",
   "execution_count": 8,
   "id": "f57dee17",
   "metadata": {},
   "outputs": [
    {
     "data": {
      "text/plain": [
       "8"
      ]
     },
     "execution_count": 8,
     "metadata": {},
     "output_type": "execute_result"
    }
   ],
   "source": [
    "f1.write(\"ankit@18\")"
   ]
  },
  {
   "cell_type": "code",
   "execution_count": 9,
   "id": "8a8baefb",
   "metadata": {},
   "outputs": [],
   "source": [
    "f1.close()"
   ]
  },
  {
   "cell_type": "code",
   "execution_count": 10,
   "id": "d3c289d9",
   "metadata": {},
   "outputs": [],
   "source": [
    "f2=open(\"email.txt\",\"w\")"
   ]
  },
  {
   "cell_type": "code",
   "execution_count": 11,
   "id": "66f3650d",
   "metadata": {},
   "outputs": [
    {
     "data": {
      "text/plain": [
       "20"
      ]
     },
     "execution_count": 11,
     "metadata": {},
     "output_type": "execute_result"
    }
   ],
   "source": [
    "f2.write(\"ankitbhatt@gmail.com\")"
   ]
  },
  {
   "cell_type": "code",
   "execution_count": 12,
   "id": "ca246275",
   "metadata": {},
   "outputs": [],
   "source": [
    "f2.close()"
   ]
  },
  {
   "cell_type": "code",
   "execution_count": 13,
   "id": "f7793172",
   "metadata": {},
   "outputs": [],
   "source": [
    "f3=open(\"phone.txt\",\"w\")"
   ]
  },
  {
   "cell_type": "code",
   "execution_count": 14,
   "id": "d6169618",
   "metadata": {},
   "outputs": [
    {
     "data": {
      "text/plain": [
       "10"
      ]
     },
     "execution_count": 14,
     "metadata": {},
     "output_type": "execute_result"
    }
   ],
   "source": [
    "f3.write(\"9582901504\")"
   ]
  },
  {
   "cell_type": "code",
   "execution_count": 15,
   "id": "78a081c5",
   "metadata": {},
   "outputs": [],
   "source": [
    "f3.close()"
   ]
  },
  {
   "cell_type": "code",
   "execution_count": 95,
   "id": "0f90fa1c",
   "metadata": {},
   "outputs": [],
   "source": [
    "'''USING THE CONCEPT OF OOP's'''\n",
    "class pass_portal:\n",
    "    def user_name(self):\n",
    "        f=open(\"userpass.txt\",\"r\")\n",
    "        user_name=input(\"enter the username: \")\n",
    "        str_user_name=\" \"\n",
    "        while(str_user_name):\n",
    "            str_user_name=f.readline()\n",
    "            l=str_user_name.split()\n",
    "            if user_name in l:\n",
    "                print(\"user name correct! Now enter the password!!\")\n",
    "                break\n",
    "            elif user_name not in l:\n",
    "                a=input(\"enter again your user name: \")\n",
    "                print(\" Now correct,enter the password\")\n",
    "                break\n",
    "    def password(user_name):\n",
    "        f1=open(\"pass.txt\",\"r\")\n",
    "        password=input(\"enter the password: \")\n",
    "        str_password=\" \"\n",
    "        while(str_password):\n",
    "            str_pass=f1.readline()\n",
    "            x=str_pass.split()\n",
    "            if password in x:\n",
    "                print(\"Password correct! Authentication completed\")\n",
    "                break\n",
    "            elif password not in x:\n",
    "                a=input(\"enter again your password: \")\n",
    "                if a in x:\n",
    "                    print(\"password correct,WELCOME\")\n",
    "                    break\n",
    "                elif a not in x:\n",
    "                    f2=open(\"email.txt\",\"r\")\n",
    "                    recovery_email=input(\"enter the recovery email,if want to reset the password: \")\n",
    "                    str_email=\" \"\n",
    "                    while(str_email):\n",
    "                        str_email=f2.readline()\n",
    "                        y=str_email.split()\n",
    "                        if recovery_email in y:\n",
    "                            print(\"recovery email accepted,WELCOME!!\")\n",
    "                        elif recovery_email not in y:\n",
    "                            f3=open(\"phone.txt\",\"r\")\n",
    "                            phone_number=input(\"enter the mobile number, if you forget the recovery email: \")\n",
    "                            str_phone=\" \"\n",
    "                            while(str_phone):\n",
    "                                str_phone=f3.readline()\n",
    "                                p=str_phone.split()\n",
    "                                if phone_number in p:\n",
    "                                    print(\"phone number accepted and you don't have to do factory reset!!\")\n",
    "                                    break\n",
    "                                elif phone_number not in p:\n",
    "                                    print(\"CAN'T GIVE ACCESS, YOU MUST HAVE TO DO A FACTORY RESET!!\")\n",
    "                                    break\n",
    "                        break  \n",
    "                    break"
   ]
  },
  {
   "cell_type": "code",
   "execution_count": 96,
   "id": "e1024cba",
   "metadata": {},
   "outputs": [],
   "source": [
    "obj=pass_portal()"
   ]
  },
  {
   "cell_type": "code",
   "execution_count": 97,
   "id": "ed3d1826",
   "metadata": {},
   "outputs": [
    {
     "name": "stdout",
     "output_type": "stream",
     "text": [
      "enter the username: ankitbhatt18\n",
      "user name correct! Now enter the password!!\n",
      "enter the password: sdfghj\n",
      "enter again your password: dfghjk\n",
      "enter the recovery email,if want to reset the password: xxdfghjk\n",
      "enter the mobile number, if you forget the recovery email: dfghjkl\n",
      "CAN'T GIVE ACCESS, YOU MUST HAVE TO DO A FACTORY RESET!!\n"
     ]
    }
   ],
   "source": [
    "obj.user_name()\n",
    "obj.password()"
   ]
  },
  {
   "cell_type": "code",
   "execution_count": null,
   "id": "e5786cff",
   "metadata": {},
   "outputs": [],
   "source": []
  },
  {
   "cell_type": "code",
   "execution_count": null,
   "id": "f448270b",
   "metadata": {},
   "outputs": [],
   "source": []
  }
 ],
 "metadata": {
  "kernelspec": {
   "display_name": "Python 3",
   "language": "python",
   "name": "python3"
  },
  "language_info": {
   "codemirror_mode": {
    "name": "ipython",
    "version": 3
   },
   "file_extension": ".py",
   "mimetype": "text/x-python",
   "name": "python",
   "nbconvert_exporter": "python",
   "pygments_lexer": "ipython3",
   "version": "3.8.8"
  }
 },
 "nbformat": 4,
 "nbformat_minor": 5
}
