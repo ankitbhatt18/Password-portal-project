{
 "cells": [
  {
   "cell_type": "markdown",
   "id": "e7377fbe",
   "metadata": {},
   "source": [
    "### Agriculture Project for Farmers: Which crop should they pick to plant in which condition:\n",
    "# ----------------------------------------------------------------------------------------"
   ]
  },
  {
   "cell_type": "code",
   "execution_count": 1,
   "id": "f09a513e",
   "metadata": {},
   "outputs": [],
   "source": [
    "#For manipulation:\n",
    "import numpy as np\n",
    "import pandas as pd\n",
    "\n",
    "#For Visualization:\n",
    "import matplotlib.pyplot as plt\n",
    "import seaborn as sns\n",
    "\n",
    "#For interactivity:\n",
    "from ipywidgets import interact"
   ]
  },
  {
   "cell_type": "code",
   "execution_count": 3,
   "id": "34a34fca",
   "metadata": {},
   "outputs": [
    {
     "data": {
      "text/html": [
       "<div>\n",
       "<style scoped>\n",
       "    .dataframe tbody tr th:only-of-type {\n",
       "        vertical-align: middle;\n",
       "    }\n",
       "\n",
       "    .dataframe tbody tr th {\n",
       "        vertical-align: top;\n",
       "    }\n",
       "\n",
       "    .dataframe thead th {\n",
       "        text-align: right;\n",
       "    }\n",
       "</style>\n",
       "<table border=\"1\" class=\"dataframe\">\n",
       "  <thead>\n",
       "    <tr style=\"text-align: right;\">\n",
       "      <th></th>\n",
       "      <th>N</th>\n",
       "      <th>P</th>\n",
       "      <th>K</th>\n",
       "      <th>temperature</th>\n",
       "      <th>humidity</th>\n",
       "      <th>ph</th>\n",
       "      <th>rainfall</th>\n",
       "      <th>label</th>\n",
       "    </tr>\n",
       "  </thead>\n",
       "  <tbody>\n",
       "    <tr>\n",
       "      <th>0</th>\n",
       "      <td>90</td>\n",
       "      <td>42</td>\n",
       "      <td>43</td>\n",
       "      <td>20.879744</td>\n",
       "      <td>82.002744</td>\n",
       "      <td>6.502985</td>\n",
       "      <td>202.935536</td>\n",
       "      <td>rice</td>\n",
       "    </tr>\n",
       "    <tr>\n",
       "      <th>1</th>\n",
       "      <td>85</td>\n",
       "      <td>58</td>\n",
       "      <td>41</td>\n",
       "      <td>21.770462</td>\n",
       "      <td>80.319644</td>\n",
       "      <td>7.038096</td>\n",
       "      <td>226.655537</td>\n",
       "      <td>rice</td>\n",
       "    </tr>\n",
       "    <tr>\n",
       "      <th>2</th>\n",
       "      <td>60</td>\n",
       "      <td>55</td>\n",
       "      <td>44</td>\n",
       "      <td>23.004459</td>\n",
       "      <td>82.320763</td>\n",
       "      <td>7.840207</td>\n",
       "      <td>263.964248</td>\n",
       "      <td>rice</td>\n",
       "    </tr>\n",
       "    <tr>\n",
       "      <th>3</th>\n",
       "      <td>74</td>\n",
       "      <td>35</td>\n",
       "      <td>40</td>\n",
       "      <td>26.491096</td>\n",
       "      <td>80.158363</td>\n",
       "      <td>6.980401</td>\n",
       "      <td>242.864034</td>\n",
       "      <td>rice</td>\n",
       "    </tr>\n",
       "    <tr>\n",
       "      <th>4</th>\n",
       "      <td>78</td>\n",
       "      <td>42</td>\n",
       "      <td>42</td>\n",
       "      <td>20.130175</td>\n",
       "      <td>81.604873</td>\n",
       "      <td>7.628473</td>\n",
       "      <td>262.717340</td>\n",
       "      <td>rice</td>\n",
       "    </tr>\n",
       "  </tbody>\n",
       "</table>\n",
       "</div>"
      ],
      "text/plain": [
       "    N   P   K  temperature   humidity        ph    rainfall label\n",
       "0  90  42  43    20.879744  82.002744  6.502985  202.935536  rice\n",
       "1  85  58  41    21.770462  80.319644  7.038096  226.655537  rice\n",
       "2  60  55  44    23.004459  82.320763  7.840207  263.964248  rice\n",
       "3  74  35  40    26.491096  80.158363  6.980401  242.864034  rice\n",
       "4  78  42  42    20.130175  81.604873  7.628473  262.717340  rice"
      ]
     },
     "execution_count": 3,
     "metadata": {},
     "output_type": "execute_result"
    }
   ],
   "source": [
    "# Let's read the dataset:\n",
    "df=pd.read_csv(\"agriculture_data.csv\")\n",
    "df.head()"
   ]
  },
  {
   "cell_type": "code",
   "execution_count": 4,
   "id": "daad3f6d",
   "metadata": {},
   "outputs": [
    {
     "name": "stdout",
     "output_type": "stream",
     "text": [
      "The shape of the above dataset:  (2200, 8)\n"
     ]
    }
   ],
   "source": [
    "#Let's check the shape of the data set:\n",
    "print(\"The shape of the above dataset: \", df.shape)\n",
    "# 2200 rows and 8 columns."
   ]
  },
  {
   "cell_type": "code",
   "execution_count": 5,
   "id": "bac45258",
   "metadata": {},
   "outputs": [
    {
     "data": {
      "text/plain": [
       "N              0\n",
       "P              0\n",
       "K              0\n",
       "temperature    0\n",
       "humidity       0\n",
       "ph             0\n",
       "rainfall       0\n",
       "label          0\n",
       "dtype: int64"
      ]
     },
     "execution_count": 5,
     "metadata": {},
     "output_type": "execute_result"
    }
   ],
   "source": [
    "#Let's check if there is any missing value or not:\n",
    "df.isnull().sum()\n",
    "# Hopefully, we don't have any missing values, but if it is present then we use \"fillna\" and \"dropna\" function to deal with."
   ]
  },
  {
   "cell_type": "code",
   "execution_count": 6,
   "id": "03d3c80d",
   "metadata": {},
   "outputs": [
    {
     "data": {
      "text/plain": [
       "grapes         100\n",
       "cotton         100\n",
       "banana         100\n",
       "lentil         100\n",
       "blackgram      100\n",
       "pomegranate    100\n",
       "pigeonpeas     100\n",
       "papaya         100\n",
       "rice           100\n",
       "chickpea       100\n",
       "mothbeans      100\n",
       "mango          100\n",
       "watermelon     100\n",
       "orange         100\n",
       "jute           100\n",
       "coconut        100\n",
       "kidneybeans    100\n",
       "maize          100\n",
       "mungbean       100\n",
       "apple          100\n",
       "muskmelon      100\n",
       "coffee         100\n",
       "Name: label, dtype: int64"
      ]
     },
     "execution_count": 6,
     "metadata": {},
     "output_type": "execute_result"
    }
   ],
   "source": [
    "#Let's check the crops present in the dataset:\n",
    "df[\"label\"].value_counts()"
   ]
  },
  {
   "cell_type": "code",
   "execution_count": 8,
   "id": "e2d9206f",
   "metadata": {},
   "outputs": [
    {
     "data": {
      "text/html": [
       "<div>\n",
       "<style scoped>\n",
       "    .dataframe tbody tr th:only-of-type {\n",
       "        vertical-align: middle;\n",
       "    }\n",
       "\n",
       "    .dataframe tbody tr th {\n",
       "        vertical-align: top;\n",
       "    }\n",
       "\n",
       "    .dataframe thead th {\n",
       "        text-align: right;\n",
       "    }\n",
       "</style>\n",
       "<table border=\"1\" class=\"dataframe\">\n",
       "  <thead>\n",
       "    <tr style=\"text-align: right;\">\n",
       "      <th></th>\n",
       "      <th>N</th>\n",
       "      <th>P</th>\n",
       "      <th>K</th>\n",
       "      <th>temperature</th>\n",
       "      <th>humidity</th>\n",
       "      <th>ph</th>\n",
       "      <th>rainfall</th>\n",
       "    </tr>\n",
       "  </thead>\n",
       "  <tbody>\n",
       "    <tr>\n",
       "      <th>count</th>\n",
       "      <td>2200.000000</td>\n",
       "      <td>2200.000000</td>\n",
       "      <td>2200.000000</td>\n",
       "      <td>2200.000000</td>\n",
       "      <td>2200.000000</td>\n",
       "      <td>2200.000000</td>\n",
       "      <td>2200.000000</td>\n",
       "    </tr>\n",
       "    <tr>\n",
       "      <th>mean</th>\n",
       "      <td>50.551818</td>\n",
       "      <td>53.362727</td>\n",
       "      <td>48.149091</td>\n",
       "      <td>25.616244</td>\n",
       "      <td>71.481779</td>\n",
       "      <td>6.469480</td>\n",
       "      <td>103.463655</td>\n",
       "    </tr>\n",
       "    <tr>\n",
       "      <th>std</th>\n",
       "      <td>36.917334</td>\n",
       "      <td>32.985883</td>\n",
       "      <td>50.647931</td>\n",
       "      <td>5.063749</td>\n",
       "      <td>22.263812</td>\n",
       "      <td>0.773938</td>\n",
       "      <td>54.958389</td>\n",
       "    </tr>\n",
       "    <tr>\n",
       "      <th>min</th>\n",
       "      <td>0.000000</td>\n",
       "      <td>5.000000</td>\n",
       "      <td>5.000000</td>\n",
       "      <td>8.825675</td>\n",
       "      <td>14.258040</td>\n",
       "      <td>3.504752</td>\n",
       "      <td>20.211267</td>\n",
       "    </tr>\n",
       "    <tr>\n",
       "      <th>25%</th>\n",
       "      <td>21.000000</td>\n",
       "      <td>28.000000</td>\n",
       "      <td>20.000000</td>\n",
       "      <td>22.769375</td>\n",
       "      <td>60.261953</td>\n",
       "      <td>5.971693</td>\n",
       "      <td>64.551686</td>\n",
       "    </tr>\n",
       "    <tr>\n",
       "      <th>50%</th>\n",
       "      <td>37.000000</td>\n",
       "      <td>51.000000</td>\n",
       "      <td>32.000000</td>\n",
       "      <td>25.598693</td>\n",
       "      <td>80.473146</td>\n",
       "      <td>6.425045</td>\n",
       "      <td>94.867624</td>\n",
       "    </tr>\n",
       "    <tr>\n",
       "      <th>75%</th>\n",
       "      <td>84.250000</td>\n",
       "      <td>68.000000</td>\n",
       "      <td>49.000000</td>\n",
       "      <td>28.561654</td>\n",
       "      <td>89.948771</td>\n",
       "      <td>6.923643</td>\n",
       "      <td>124.267508</td>\n",
       "    </tr>\n",
       "    <tr>\n",
       "      <th>max</th>\n",
       "      <td>140.000000</td>\n",
       "      <td>145.000000</td>\n",
       "      <td>205.000000</td>\n",
       "      <td>43.675493</td>\n",
       "      <td>99.981876</td>\n",
       "      <td>9.935091</td>\n",
       "      <td>298.560117</td>\n",
       "    </tr>\n",
       "  </tbody>\n",
       "</table>\n",
       "</div>"
      ],
      "text/plain": [
       "                 N            P            K  temperature     humidity  \\\n",
       "count  2200.000000  2200.000000  2200.000000  2200.000000  2200.000000   \n",
       "mean     50.551818    53.362727    48.149091    25.616244    71.481779   \n",
       "std      36.917334    32.985883    50.647931     5.063749    22.263812   \n",
       "min       0.000000     5.000000     5.000000     8.825675    14.258040   \n",
       "25%      21.000000    28.000000    20.000000    22.769375    60.261953   \n",
       "50%      37.000000    51.000000    32.000000    25.598693    80.473146   \n",
       "75%      84.250000    68.000000    49.000000    28.561654    89.948771   \n",
       "max     140.000000   145.000000   205.000000    43.675493    99.981876   \n",
       "\n",
       "                ph     rainfall  \n",
       "count  2200.000000  2200.000000  \n",
       "mean      6.469480   103.463655  \n",
       "std       0.773938    54.958389  \n",
       "min       3.504752    20.211267  \n",
       "25%       5.971693    64.551686  \n",
       "50%       6.425045    94.867624  \n",
       "75%       6.923643   124.267508  \n",
       "max       9.935091   298.560117  "
      ]
     },
     "execution_count": 8,
     "metadata": {},
     "output_type": "execute_result"
    }
   ],
   "source": [
    "#Some basics Statistical Analysis:\n",
    "df.describe()"
   ]
  },
  {
   "cell_type": "code",
   "execution_count": 19,
   "id": "eb460fd7",
   "metadata": {},
   "outputs": [
    {
     "data": {
      "application/vnd.jupyter.widget-view+json": {
       "model_id": "3874c91a6dca40deaeb8ddfec67c79ab",
       "version_major": 2,
       "version_minor": 0
      },
      "text/plain": [
       "interactive(children=(Dropdown(description='crops', options=('grapes', 'cotton', 'banana', 'lentil', 'blackgra…"
      ]
     },
     "metadata": {},
     "output_type": "display_data"
    },
    {
     "name": "stdout",
     "output_type": "stream",
     "text": [
      "This is how we can define a function to give the indivual crop details:\n"
     ]
    }
   ],
   "source": [
    "#Now i will make an iteractive function which gives us the individual crop, on the basis of P,K,N,rainfall,ph,temp, etc:\n",
    "@interact\n",
    "def summary(crops=list(df[\"label\"].value_counts().index)):\n",
    "    x=df[df[\"label\"]==crops]\n",
    "    print(\"-----------------------------------------\")\n",
    "    print(\"Statistics for Nitrogen:\")\n",
    "    print(\"Minimum Nitrogen Required: \",x[\"N\"].min())\n",
    "    print(\"Average Nitrogen Required: \",x[\"N\"].mean())\n",
    "    print(\"Maximum Nitrogen Required: \",x[\"N\"].max())\n",
    "    print(\"-----------------------------------------\")\n",
    "    print(\"Statistics for Phosphorous:\")\n",
    "    print(\"Minimum Phosphorous Required: \",x[\"P\"].min())\n",
    "    print(\"Average Phosphorous Required: \",x[\"P\"].mean())\n",
    "    print(\"Maximum Phosphorous Required: \",x[\"P\"].max())\n",
    "    print(\"-----------------------------------------\")\n",
    "    print(\"Statistics for Potassium:\")\n",
    "    print(\"Minimum Potassium Required: \",x[\"K\"].min())\n",
    "    print(\"Average Potassium Required: \",x[\"K\"].mean())\n",
    "    print(\"Maximum Potassium Required: \",x[\"K\"].max())\n",
    "    print(\"-----------------------------------------\")\n",
    "    print(\"Statistics for Temperature:\")\n",
    "    print(\"Minimum Temperature Required: \",x[\"temperature\"].min())\n",
    "    print(\"Average Temperature Required: \",x[\"temperature\"].mean())\n",
    "    print(\"Maximum Temperature Required: \",x[\"temperature\"].max())\n",
    "    print(\"-----------------------------------------\")\n",
    "    print(\"Statistics for Humidity:\")\n",
    "    print(\"Minimum Humidity Required: \",x[\"humidity\"].min())\n",
    "    print(\"Average Humidity Required: \",x[\"humidity\"].mean())\n",
    "    print(\"Maximum Humidity Required: \",x[\"humidity\"].max())\n",
    "    print(\"-----------------------------------------\")\n",
    "    print(\"Statistics for ph:\")\n",
    "    print(\"Minimum ph Required: \",x[\"ph\"].min())\n",
    "    print(\"Average ph Required: \",x[\"ph\"].mean())\n",
    "    print(\"Maximum ph Required: \",x[\"ph\"].max())\n",
    "    print(\"-----------------------------------------\")\n",
    "    print(\"Statistics for rainfall:\")\n",
    "    print(\"Minimum rainfall Required: \",x[\"rainfall\"].min())\n",
    "    print(\"Average rainfall Required: \",x[\"rainfall\"].mean())\n",
    "    print(\"Maximum rainfall Required: \",x[\"rainfall\"].max())\n",
    "print(\"This is how we can define a function to give the indivual crop details:\")"
   ]
  },
  {
   "cell_type": "code",
   "execution_count": 38,
   "id": "7423fd99",
   "metadata": {},
   "outputs": [
    {
     "data": {
      "application/vnd.jupyter.widget-view+json": {
       "model_id": "74525373e1ed48099724536963a7fd92",
       "version_major": 2,
       "version_minor": 0
      },
      "text/plain": [
       "interactive(children=(Dropdown(description='conditions', options=('N', 'P', 'K', 'temperature', 'humidity', 'p…"
      ]
     },
     "metadata": {},
     "output_type": "display_data"
    },
    {
     "name": "stdout",
     "output_type": "stream",
     "text": [
      "Now we can check the average required condition required for each crops!!\n"
     ]
    }
   ],
   "source": [
    "#Let's compare the average requirements for each crops with average conditions:\n",
    "\n",
    "@interact\n",
    "def compare(conditions=[\"N\",\"P\",\"K\",\"temperature\",\"humidity\",\"ph\",\"rainfall\"]):\n",
    "    print(\"Average value for \",conditions,\"is\", df[conditions].mean())\n",
    "    print(\"----------------------------------------------------------\")\n",
    "    print(\"Rice: {:.2f} \".format(df[(df[\"label\"]==\"rice\")][conditions].mean()))\n",
    "    print(\"maize: {:.2f} \".format(df[(df[\"label\"]==\"maize\")][conditions].mean()))\n",
    "    print(\"chickpea: {:.2f} \".format(df[(df[\"label\"]==\"chickpea\")][conditions].mean()))\n",
    "    print(\"kidneybeans: {:.2f} \".format(df[(df[\"label\"]==\"kidneybeans\")][conditions].mean()))\n",
    "    print(\"pigeonpeas: {:.2f} \".format(df[(df[\"label\"]==\"pigeonpeas\")][conditions].mean()))\n",
    "    print(\"mothbeans: {:.2f} \".format(df[(df[\"label\"]==\"mothbeans\")][conditions].mean()))\n",
    "    print(\"mungbean: {:.2f} \".format(df[(df[\"label\"]==\"mungbean\")][conditions].mean()))\n",
    "    print(\"blackgram: {:.2f} \".format(df[(df[\"label\"]==\"blackgram\")][conditions].mean()))\n",
    "    print(\"lentil: {:.2f} \".format(df[(df[\"label\"]==\"lentil\")][conditions].mean()))\n",
    "    print(\"pomegranate: {:.2f} \".format(df[(df[\"label\"]==\"pomegranate\")][conditions].mean()))\n",
    "    print(\"banana: {:.2f} \".format(df[(df[\"label\"]==\"banana\")][conditions].mean()))\n",
    "    print(\"mango: {:.2f} \".format(df[(df[\"label\"]==\"mango\")][conditions].mean()))\n",
    "    print(\"grapes: {:.2f} \".format(df[(df[\"label\"]==\"grapes\")][conditions].mean()))\n",
    "    print(\"watermelon: {:.2f} \".format(df[(df[\"label\"]==\"watermelon\")][conditions].mean()))\n",
    "    print(\"muskmelon: {:.2f} \".format(df[(df[\"label\"]==\"muskmelon\")][conditions].mean()))\n",
    "    print(\"apple: {:.2f} \".format(df[(df[\"label\"]==\"apple\")][conditions].mean()))\n",
    "    print(\"orange: {:.2f} \".format(df[(df[\"label\"]==\"orange\")][conditions].mean()))\n",
    "    print(\"papaya: {:.2f} \".format(df[(df[\"label\"]==\"papaya\")][conditions].mean()))\n",
    "    print(\"coconut: {:.2f} \".format(df[(df[\"label\"]==\"coconut\")][conditions].mean()))\n",
    "    print(\"cotton: {:.2f} \".format(df[(df[\"label\"]==\"cotton\")][conditions].mean()))\n",
    "    print(\"jute: {:.2f} \".format(df[(df[\"label\"]==\"jute\")][conditions].mean()))\n",
    "    print(\"coffee: {:.2f} \".format(df[(df[\"label\"]==\"coffee\")][conditions].mean()))\n",
    "print(\"Now we can check the average required condition required for each crops!!\")"
   ]
  },
  {
   "cell_type": "code",
   "execution_count": 39,
   "id": "806f1bfc",
   "metadata": {},
   "outputs": [
    {
     "data": {
      "application/vnd.jupyter.widget-view+json": {
       "model_id": "0ec9f8e79e9a47c6a0fb017b85618921",
       "version_major": 2,
       "version_minor": 0
      },
      "text/plain": [
       "interactive(children=(Dropdown(description='conditions', options=('N', 'P', 'K', 'temperature', 'humidity', 'p…"
      ]
     },
     "metadata": {},
     "output_type": "display_data"
    }
   ],
   "source": [
    "#Now let's make the function more Intuitive:\n",
    "\n",
    "@interact\n",
    "def compare(conditions=[\"N\",\"P\",\"K\",\"temperature\",\"humidity\",\"ph\",\"rainfall\"]):\n",
    "    print(\"Crop which require greater than Average\", conditions)\n",
    "    print(df[df[conditions]>df[conditions].mean()][\"label\"].unique())\n",
    "    print(\"------------------------------------------------------------\")\n",
    "    print(\"Crop which require less than Average\", conditions)\n",
    "    print(df[df[conditions]<=df[conditions].mean()][\"label\"].unique())"
   ]
  },
  {
   "cell_type": "code",
   "execution_count": 44,
   "id": "9e15dfdc",
   "metadata": {},
   "outputs": [
    {
     "data": {
      "text/plain": [
       "1214    grapes\n",
       "Name: label, dtype: object"
      ]
     },
     "execution_count": 44,
     "metadata": {},
     "output_type": "execute_result"
    }
   ],
   "source": [
    "#Crop which need minimum temperature:\n",
    "df[\"label\"][(df[\"temperature\"]==df[\"temperature\"].min())]"
   ]
  },
  {
   "cell_type": "code",
   "execution_count": 45,
   "id": "62d4287b",
   "metadata": {},
   "outputs": [
    {
     "data": {
      "text/plain": [
       "1743    papaya\n",
       "Name: label, dtype: object"
      ]
     },
     "execution_count": 45,
     "metadata": {},
     "output_type": "execute_result"
    }
   ],
   "source": [
    "#Crop which need maximum temperature:\n",
    "df[\"label\"][(df[\"temperature\"]==df[\"temperature\"].max())]"
   ]
  },
  {
   "cell_type": "code",
   "execution_count": null,
   "id": "ebdde4b8",
   "metadata": {},
   "outputs": [],
   "source": [
    "#distribution plot using seaborn:\n",
    "\n",
    "\n"
   ]
  },
  {
   "cell_type": "code",
   "execution_count": 57,
   "id": "f51f7f18",
   "metadata": {},
   "outputs": [
    {
     "name": "stdout",
     "output_type": "stream",
     "text": [
      "Some Interesting Patterns!\n",
      "----------------------------\n",
      "Crop which require very High ratio of Nitrogen Content in Soil:  ['cotton']\n",
      "Crop which require very High ratio of Phosphorous Content in Soil:  ['grapes' 'apple']\n",
      "Crop which require very High ratio of Potassium Content in Soil:  ['grapes' 'apple']\n",
      "Crop which require very high rainfall:  ['rice' 'papaya' 'coconut']\n",
      "Crop which require very high Temperature:  ['grapes' 'papaya']\n",
      "Crop which require very low Temperature:  ['grapes']\n",
      "Crop which require very low Humidity:  ['chickpea' 'kidneybeans']\n",
      "Crop which require very low ph:  ['mothbeans']\n",
      "Crop which require very high ph:  ['mothbeans']\n"
     ]
    }
   ],
   "source": [
    "#Let's find some filtering to know more about the crop:\n",
    "print(\"Some Interesting Patterns!\")\n",
    "print(\"----------------------------\")\n",
    "print(\"Crop which require very High ratio of Nitrogen Content in Soil: \",df[df[\"N\"]>120][\"label\"].unique())\n",
    "print(\"Crop which require very High ratio of Phosphorous Content in Soil: \",df[df[\"P\"]>100][\"label\"].unique())\n",
    "print(\"Crop which require very High ratio of Potassium Content in Soil: \",df[df[\"K\"]>200][\"label\"].unique())\n",
    "print(\"Crop which require very high rainfall: \",df[df[\"rainfall\"]>200][\"label\"].unique())\n",
    "print(\"Crop which require very high Temperature: \",df[df[\"temperature\"]>40][\"label\"].unique())\n",
    "print(\"Crop which require very low Temperature: \",df[df[\"temperature\"]<10][\"label\"].unique())\n",
    "print(\"Crop which require very low Humidity: \",df[df[\"humidity\"]<20][\"label\"].unique())\n",
    "print(\"Crop which require very low ph: \",df[df[\"ph\"]<4][\"label\"].unique())\n",
    "print(\"Crop which require very high ph: \",df[df[\"ph\"]>9][\"label\"].unique())"
   ]
  },
  {
   "cell_type": "code",
   "execution_count": 64,
   "id": "17b85204",
   "metadata": {},
   "outputs": [
    {
     "name": "stdout",
     "output_type": "stream",
     "text": [
      "Summer Crops!\n",
      "['pigeonpeas' 'mothbeans' 'blackgram' 'mango' 'grapes' 'orange' 'papaya']\n",
      "----------------------------------------------------------------\n",
      "Winter Crops!\n",
      "['maize' 'pigeonpeas' 'lentil' 'pomegranate' 'grapes' 'orange']\n",
      "----------------------------------------------------------------\n",
      "Rainy Crops!\n",
      "['rice' 'papaya' 'coconut']\n"
     ]
    }
   ],
   "source": [
    "#Let's understand which crop can only be grown in summer, rainy or winter season:\n",
    "\n",
    "print(\"Summer Crops!\")\n",
    "print(df[(df[\"temperature\"]>30)&(df[\"humidity\"]>50)][\"label\"].unique())\n",
    "print(\"----------------------------------------------------------------\")\n",
    "print(\"Winter Crops!\")\n",
    "print(df[(df[\"temperature\"]<20)&(df[\"humidity\"]>30)][\"label\"].unique())\n",
    "print(\"----------------------------------------------------------------\")\n",
    "print(\"Rainy Crops!\")\n",
    "print(df[(df[\"rainfall\"]>200)&(df[\"humidity\"]>30)][\"label\"].unique())\n"
   ]
  },
  {
   "cell_type": "markdown",
   "id": "821705ba",
   "metadata": {},
   "source": [
    "### Clustering : It is a technique that is used to classify the data points into relative groups that are called clusters:"
   ]
  },
  {
   "cell_type": "code",
   "execution_count": 68,
   "id": "fbc488f1",
   "metadata": {},
   "outputs": [
    {
     "data": {
      "text/plain": [
       "(2200, 7)"
      ]
     },
     "execution_count": 68,
     "metadata": {},
     "output_type": "execute_result"
    }
   ],
   "source": [
    "from sklearn.cluster import KMeans  #Algorithm:\n",
    "\n",
    "#Removing the labels columns:\n",
    "x=df.drop([\"label\"],axis=1)\n",
    "\n",
    "#Selecting all the values of the data:\n",
    "x=x.values\n",
    "\n",
    "#Checking the shape:\n",
    "x.shape"
   ]
  },
  {
   "cell_type": "code",
   "execution_count": 73,
   "id": "11c16d6a",
   "metadata": {},
   "outputs": [
    {
     "data": {
      "image/png": "[encoded data removed]",
      "text/plain": [
       "<Figure size 720x288 with 1 Axes>"
      ]
     },
     "metadata": {
      "needs_background": "light"
     },
     "output_type": "display_data"
    }
   ],
   "source": [
    "#Now Let's determine the optimum number of clusters within the dataset:\n",
    "\n",
    "plt.rcParams[\"figure.figsize\"]=(10,4)\n",
    "\n",
    "wcss=[]\n",
    "for i in range(1,11):\n",
    "    km=KMeans(n_clusters=i,init=\"k-means++\",max_iter=300,n_init=10,random_state=0)\n",
    "    km.fit(x)\n",
    "    wcss.append(km.inertia_)\n",
    "    \n",
    "# Let's plot the result:\n",
    "plt.plot(range(1,11),wcss)\n",
    "plt.title(\"The Elbow Method\",fontsize=20)\n",
    "plt.xlabel(\"No. of Clusters\")\n",
    "plt.ylabel(\"wcss\")\n",
    "plt.show()"
   ]
  },
  {
   "cell_type": "code",
   "execution_count": null,
   "id": "6e74a85b",
   "metadata": {},
   "outputs": [],
   "source": [
    "\"\"\"Data Science Project Step by Step in Hindi for Beginner | Hands-on Project Workshop\"\"\" "
   ]
  }
 ],
 "metadata": {
  "kernelspec": {
   "display_name": "Python 3",
   "language": "python",
   "name": "python3"
  },
  "language_info": {
   "codemirror_mode": {
    "name": "ipython",
    "version": 3
   },
   "file_extension": ".py",
   "mimetype": "text/x-python",
   "name": "python",
   "nbconvert_exporter": "python",
   "pygments_lexer": "ipython3",
   "version": "3.8.8"
  }
 },
 "nbformat": 4,
 "nbformat_minor": 5
}
