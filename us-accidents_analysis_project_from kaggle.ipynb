{
 "cells": [
  {
   "cell_type": "markdown",
   "id": "ec4ee896",
   "metadata": {},
   "source": [
    "# Project on US-Accidents_DEC20:\n",
    "# ---------------------------------------------"
   ]
  },
  {
   "cell_type": "markdown",
   "id": "7ab3a50e",
   "metadata": {},
   "source": [
    "## 1. Data Preparation and Cleaning:\n",
    "#### a. Importing the data using Pandas Library.\n",
    "#### b. Looking for the some Info about the data and the Columns.\n",
    "#### c. Fix any Missing and Incorrect Values."
   ]
  },
  {
   "cell_type": "code",
   "execution_count": 117,
   "id": "d4cd8314",
   "metadata": {},
   "outputs": [],
   "source": [
    "import pandas as pd"
   ]
  },
  {
   "cell_type": "code",
   "execution_count": 118,
   "id": "456d951d",
   "metadata": {},
   "outputs": [
    {
     "data": {
      "text/html": [
       "<div>\n",
       "<style scoped>\n",
       "    .dataframe tbody tr th:only-of-type {\n",
       "        vertical-align: middle;\n",
       "    }\n",
       "\n",
       "    .dataframe tbody tr th {\n",
       "        vertical-align: top;\n",
       "    }\n",
       "\n",
       "    .dataframe thead th {\n",
       "        text-align: right;\n",
       "    }\n",
       "</style>\n",
       "<table border=\"1\" class=\"dataframe\">\n",
       "  <thead>\n",
       "    <tr style=\"text-align: right;\">\n",
       "      <th></th>\n",
       "      <th>ID</th>\n",
       "      <th>Severity</th>\n",
       "      <th>Start_Time</th>\n",
       "      <th>End_Time</th>\n",
       "      <th>Start_Lat</th>\n",
       "      <th>Start_Lng</th>\n",
       "      <th>End_Lat</th>\n",
       "      <th>End_Lng</th>\n",
       "      <th>Distance(mi)</th>\n",
       "      <th>Description</th>\n",
       "      <th>...</th>\n",
       "      <th>Roundabout</th>\n",
       "      <th>Station</th>\n",
       "      <th>Stop</th>\n",
       "      <th>Traffic_Calming</th>\n",
       "      <th>Traffic_Signal</th>\n",
       "      <th>Turning_Loop</th>\n",
       "      <th>Sunrise_Sunset</th>\n",
       "      <th>Civil_Twilight</th>\n",
       "      <th>Nautical_Twilight</th>\n",
       "      <th>Astronomical_Twilight</th>\n",
       "    </tr>\n",
       "  </thead>\n",
       "  <tbody>\n",
       "    <tr>\n",
       "      <th>0</th>\n",
       "      <td>A-2716600</td>\n",
       "      <td>3</td>\n",
       "      <td>2016-02-08 00:37:08</td>\n",
       "      <td>2016-02-08 06:37:08</td>\n",
       "      <td>40.10891</td>\n",
       "      <td>-83.09286</td>\n",
       "      <td>40.11206</td>\n",
       "      <td>-83.03187</td>\n",
       "      <td>3.230</td>\n",
       "      <td>Between Sawmill Rd/Exit 20 and OH-315/Olentang...</td>\n",
       "      <td>...</td>\n",
       "      <td>False</td>\n",
       "      <td>False</td>\n",
       "      <td>False</td>\n",
       "      <td>False</td>\n",
       "      <td>False</td>\n",
       "      <td>False</td>\n",
       "      <td>Night</td>\n",
       "      <td>Night</td>\n",
       "      <td>Night</td>\n",
       "      <td>Night</td>\n",
       "    </tr>\n",
       "    <tr>\n",
       "      <th>1</th>\n",
       "      <td>A-2716601</td>\n",
       "      <td>2</td>\n",
       "      <td>2016-02-08 05:56:20</td>\n",
       "      <td>2016-02-08 11:56:20</td>\n",
       "      <td>39.86542</td>\n",
       "      <td>-84.06280</td>\n",
       "      <td>39.86501</td>\n",
       "      <td>-84.04873</td>\n",
       "      <td>0.747</td>\n",
       "      <td>At OH-4/OH-235/Exit 41 - Accident.</td>\n",
       "      <td>...</td>\n",
       "      <td>False</td>\n",
       "      <td>False</td>\n",
       "      <td>False</td>\n",
       "      <td>False</td>\n",
       "      <td>False</td>\n",
       "      <td>False</td>\n",
       "      <td>Night</td>\n",
       "      <td>Night</td>\n",
       "      <td>Night</td>\n",
       "      <td>Night</td>\n",
       "    </tr>\n",
       "    <tr>\n",
       "      <th>2</th>\n",
       "      <td>A-2716602</td>\n",
       "      <td>2</td>\n",
       "      <td>2016-02-08 06:15:39</td>\n",
       "      <td>2016-02-08 12:15:39</td>\n",
       "      <td>39.10266</td>\n",
       "      <td>-84.52468</td>\n",
       "      <td>39.10209</td>\n",
       "      <td>-84.52396</td>\n",
       "      <td>0.055</td>\n",
       "      <td>At I-71/US-50/Exit 1 - Accident.</td>\n",
       "      <td>...</td>\n",
       "      <td>False</td>\n",
       "      <td>False</td>\n",
       "      <td>False</td>\n",
       "      <td>False</td>\n",
       "      <td>False</td>\n",
       "      <td>False</td>\n",
       "      <td>Night</td>\n",
       "      <td>Night</td>\n",
       "      <td>Night</td>\n",
       "      <td>Day</td>\n",
       "    </tr>\n",
       "    <tr>\n",
       "      <th>3</th>\n",
       "      <td>A-2716603</td>\n",
       "      <td>2</td>\n",
       "      <td>2016-02-08 06:15:39</td>\n",
       "      <td>2016-02-08 12:15:39</td>\n",
       "      <td>39.10148</td>\n",
       "      <td>-84.52341</td>\n",
       "      <td>39.09841</td>\n",
       "      <td>-84.52241</td>\n",
       "      <td>0.219</td>\n",
       "      <td>At I-71/US-50/Exit 1 - Accident.</td>\n",
       "      <td>...</td>\n",
       "      <td>False</td>\n",
       "      <td>False</td>\n",
       "      <td>False</td>\n",
       "      <td>False</td>\n",
       "      <td>False</td>\n",
       "      <td>False</td>\n",
       "      <td>Night</td>\n",
       "      <td>Night</td>\n",
       "      <td>Night</td>\n",
       "      <td>Day</td>\n",
       "    </tr>\n",
       "    <tr>\n",
       "      <th>4</th>\n",
       "      <td>A-2716604</td>\n",
       "      <td>2</td>\n",
       "      <td>2016-02-08 06:51:45</td>\n",
       "      <td>2016-02-08 12:51:45</td>\n",
       "      <td>41.06213</td>\n",
       "      <td>-81.53784</td>\n",
       "      <td>41.06217</td>\n",
       "      <td>-81.53547</td>\n",
       "      <td>0.123</td>\n",
       "      <td>At Dart Ave/Exit 21 - Accident.</td>\n",
       "      <td>...</td>\n",
       "      <td>False</td>\n",
       "      <td>False</td>\n",
       "      <td>False</td>\n",
       "      <td>False</td>\n",
       "      <td>False</td>\n",
       "      <td>False</td>\n",
       "      <td>Night</td>\n",
       "      <td>Night</td>\n",
       "      <td>Day</td>\n",
       "      <td>Day</td>\n",
       "    </tr>\n",
       "    <tr>\n",
       "      <th>...</th>\n",
       "      <td>...</td>\n",
       "      <td>...</td>\n",
       "      <td>...</td>\n",
       "      <td>...</td>\n",
       "      <td>...</td>\n",
       "      <td>...</td>\n",
       "      <td>...</td>\n",
       "      <td>...</td>\n",
       "      <td>...</td>\n",
       "      <td>...</td>\n",
       "      <td>...</td>\n",
       "      <td>...</td>\n",
       "      <td>...</td>\n",
       "      <td>...</td>\n",
       "      <td>...</td>\n",
       "      <td>...</td>\n",
       "      <td>...</td>\n",
       "      <td>...</td>\n",
       "      <td>...</td>\n",
       "      <td>...</td>\n",
       "      <td>...</td>\n",
       "    </tr>\n",
       "    <tr>\n",
       "      <th>1516059</th>\n",
       "      <td>A-4239402</td>\n",
       "      <td>2</td>\n",
       "      <td>2019-08-23 18:03:25</td>\n",
       "      <td>2019-08-23 18:32:01</td>\n",
       "      <td>34.00248</td>\n",
       "      <td>-117.37936</td>\n",
       "      <td>33.99888</td>\n",
       "      <td>-117.37094</td>\n",
       "      <td>0.543</td>\n",
       "      <td>At Market St - Accident.</td>\n",
       "      <td>...</td>\n",
       "      <td>False</td>\n",
       "      <td>False</td>\n",
       "      <td>False</td>\n",
       "      <td>False</td>\n",
       "      <td>False</td>\n",
       "      <td>False</td>\n",
       "      <td>Day</td>\n",
       "      <td>Day</td>\n",
       "      <td>Day</td>\n",
       "      <td>Day</td>\n",
       "    </tr>\n",
       "    <tr>\n",
       "      <th>1516060</th>\n",
       "      <td>A-4239403</td>\n",
       "      <td>2</td>\n",
       "      <td>2019-08-23 19:11:30</td>\n",
       "      <td>2019-08-23 19:38:23</td>\n",
       "      <td>32.76696</td>\n",
       "      <td>-117.14806</td>\n",
       "      <td>32.76555</td>\n",
       "      <td>-117.15363</td>\n",
       "      <td>0.338</td>\n",
       "      <td>At Camino Del Rio/Mission Center Rd - Accident.</td>\n",
       "      <td>...</td>\n",
       "      <td>False</td>\n",
       "      <td>False</td>\n",
       "      <td>False</td>\n",
       "      <td>False</td>\n",
       "      <td>False</td>\n",
       "      <td>False</td>\n",
       "      <td>Day</td>\n",
       "      <td>Day</td>\n",
       "      <td>Day</td>\n",
       "      <td>Day</td>\n",
       "    </tr>\n",
       "    <tr>\n",
       "      <th>1516061</th>\n",
       "      <td>A-4239404</td>\n",
       "      <td>2</td>\n",
       "      <td>2019-08-23 19:00:21</td>\n",
       "      <td>2019-08-23 19:28:49</td>\n",
       "      <td>33.77545</td>\n",
       "      <td>-117.84779</td>\n",
       "      <td>33.77740</td>\n",
       "      <td>-117.85727</td>\n",
       "      <td>0.561</td>\n",
       "      <td>At Glassell St/Grand Ave - Accident. in the ri...</td>\n",
       "      <td>...</td>\n",
       "      <td>False</td>\n",
       "      <td>False</td>\n",
       "      <td>False</td>\n",
       "      <td>False</td>\n",
       "      <td>False</td>\n",
       "      <td>False</td>\n",
       "      <td>Day</td>\n",
       "      <td>Day</td>\n",
       "      <td>Day</td>\n",
       "      <td>Day</td>\n",
       "    </tr>\n",
       "    <tr>\n",
       "      <th>1516062</th>\n",
       "      <td>A-4239405</td>\n",
       "      <td>2</td>\n",
       "      <td>2019-08-23 19:00:21</td>\n",
       "      <td>2019-08-23 19:29:42</td>\n",
       "      <td>33.99246</td>\n",
       "      <td>-118.40302</td>\n",
       "      <td>33.98311</td>\n",
       "      <td>-118.39565</td>\n",
       "      <td>0.772</td>\n",
       "      <td>At CA-90/Marina Fwy/Jefferson Blvd - Accident.</td>\n",
       "      <td>...</td>\n",
       "      <td>False</td>\n",
       "      <td>False</td>\n",
       "      <td>False</td>\n",
       "      <td>False</td>\n",
       "      <td>False</td>\n",
       "      <td>False</td>\n",
       "      <td>Day</td>\n",
       "      <td>Day</td>\n",
       "      <td>Day</td>\n",
       "      <td>Day</td>\n",
       "    </tr>\n",
       "    <tr>\n",
       "      <th>1516063</th>\n",
       "      <td>A-4239406</td>\n",
       "      <td>2</td>\n",
       "      <td>2019-08-23 18:52:06</td>\n",
       "      <td>2019-08-23 19:21:31</td>\n",
       "      <td>34.13393</td>\n",
       "      <td>-117.23092</td>\n",
       "      <td>34.13736</td>\n",
       "      <td>-117.23934</td>\n",
       "      <td>0.537</td>\n",
       "      <td>At Highland Ave/Arden Ave - Accident.</td>\n",
       "      <td>...</td>\n",
       "      <td>False</td>\n",
       "      <td>False</td>\n",
       "      <td>False</td>\n",
       "      <td>False</td>\n",
       "      <td>False</td>\n",
       "      <td>False</td>\n",
       "      <td>Day</td>\n",
       "      <td>Day</td>\n",
       "      <td>Day</td>\n",
       "      <td>Day</td>\n",
       "    </tr>\n",
       "  </tbody>\n",
       "</table>\n",
       "<p>1516064 rows × 47 columns</p>\n",
       "</div>"
      ],
      "text/plain": [
       "                ID  Severity           Start_Time             End_Time  \\\n",
       "0        A-2716600         3  2016-02-08 00:37:08  2016-02-08 06:37:08   \n",
       "1        A-2716601         2  2016-02-08 05:56:20  2016-02-08 11:56:20   \n",
       "2        A-2716602         2  2016-02-08 06:15:39  2016-02-08 12:15:39   \n",
       "3        A-2716603         2  2016-02-08 06:15:39  2016-02-08 12:15:39   \n",
       "4        A-2716604         2  2016-02-08 06:51:45  2016-02-08 12:51:45   \n",
       "...            ...       ...                  ...                  ...   \n",
       "1516059  A-4239402         2  2019-08-23 18:03:25  2019-08-23 18:32:01   \n",
       "1516060  A-4239403         2  2019-08-23 19:11:30  2019-08-23 19:38:23   \n",
       "1516061  A-4239404         2  2019-08-23 19:00:21  2019-08-23 19:28:49   \n",
       "1516062  A-4239405         2  2019-08-23 19:00:21  2019-08-23 19:29:42   \n",
       "1516063  A-4239406         2  2019-08-23 18:52:06  2019-08-23 19:21:31   \n",
       "\n",
       "         Start_Lat  Start_Lng   End_Lat    End_Lng  Distance(mi)  \\\n",
       "0         40.10891  -83.09286  40.11206  -83.03187         3.230   \n",
       "1         39.86542  -84.06280  39.86501  -84.04873         0.747   \n",
       "2         39.10266  -84.52468  39.10209  -84.52396         0.055   \n",
       "3         39.10148  -84.52341  39.09841  -84.52241         0.219   \n",
       "4         41.06213  -81.53784  41.06217  -81.53547         0.123   \n",
       "...            ...        ...       ...        ...           ...   \n",
       "1516059   34.00248 -117.37936  33.99888 -117.37094         0.543   \n",
       "1516060   32.76696 -117.14806  32.76555 -117.15363         0.338   \n",
       "1516061   33.77545 -117.84779  33.77740 -117.85727         0.561   \n",
       "1516062   33.99246 -118.40302  33.98311 -118.39565         0.772   \n",
       "1516063   34.13393 -117.23092  34.13736 -117.23934         0.537   \n",
       "\n",
       "                                               Description  ...  Roundabout  \\\n",
       "0        Between Sawmill Rd/Exit 20 and OH-315/Olentang...  ...       False   \n",
       "1                       At OH-4/OH-235/Exit 41 - Accident.  ...       False   \n",
       "2                         At I-71/US-50/Exit 1 - Accident.  ...       False   \n",
       "3                         At I-71/US-50/Exit 1 - Accident.  ...       False   \n",
       "4                          At Dart Ave/Exit 21 - Accident.  ...       False   \n",
       "...                                                    ...  ...         ...   \n",
       "1516059                           At Market St - Accident.  ...       False   \n",
       "1516060    At Camino Del Rio/Mission Center Rd - Accident.  ...       False   \n",
       "1516061  At Glassell St/Grand Ave - Accident. in the ri...  ...       False   \n",
       "1516062     At CA-90/Marina Fwy/Jefferson Blvd - Accident.  ...       False   \n",
       "1516063              At Highland Ave/Arden Ave - Accident.  ...       False   \n",
       "\n",
       "        Station   Stop Traffic_Calming Traffic_Signal Turning_Loop  \\\n",
       "0         False  False           False          False        False   \n",
       "1         False  False           False          False        False   \n",
       "2         False  False           False          False        False   \n",
       "3         False  False           False          False        False   \n",
       "4         False  False           False          False        False   \n",
       "...         ...    ...             ...            ...          ...   \n",
       "1516059   False  False           False          False        False   \n",
       "1516060   False  False           False          False        False   \n",
       "1516061   False  False           False          False        False   \n",
       "1516062   False  False           False          False        False   \n",
       "1516063   False  False           False          False        False   \n",
       "\n",
       "        Sunrise_Sunset Civil_Twilight Nautical_Twilight Astronomical_Twilight  \n",
       "0                Night          Night             Night                 Night  \n",
       "1                Night          Night             Night                 Night  \n",
       "2                Night          Night             Night                   Day  \n",
       "3                Night          Night             Night                   Day  \n",
       "4                Night          Night               Day                   Day  \n",
       "...                ...            ...               ...                   ...  \n",
       "1516059            Day            Day               Day                   Day  \n",
       "1516060            Day            Day               Day                   Day  \n",
       "1516061            Day            Day               Day                   Day  \n",
       "1516062            Day            Day               Day                   Day  \n",
       "1516063            Day            Day               Day                   Day  \n",
       "\n",
       "[1516064 rows x 47 columns]"
      ]
     },
     "execution_count": 118,
     "metadata": {},
     "output_type": "execute_result"
    }
   ],
   "source": [
    "df=pd.read_csv(\"US_Accidents_Dec20_updated.csv\")\n",
    "df"
   ]
  },
  {
   "cell_type": "code",
   "execution_count": 3,
   "id": "5d29fefb",
   "metadata": {},
   "outputs": [
    {
     "data": {
      "text/plain": [
       "Index(['ID', 'Severity', 'Start_Time', 'End_Time', 'Start_Lat', 'Start_Lng',\n",
       "       'End_Lat', 'End_Lng', 'Distance(mi)', 'Description', 'Number', 'Street',\n",
       "       'Side', 'City', 'County', 'State', 'Zipcode', 'Country', 'Timezone',\n",
       "       'Airport_Code', 'Weather_Timestamp', 'Temperature(F)', 'Wind_Chill(F)',\n",
       "       'Humidity(%)', 'Pressure(in)', 'Visibility(mi)', 'Wind_Direction',\n",
       "       'Wind_Speed(mph)', 'Precipitation(in)', 'Weather_Condition', 'Amenity',\n",
       "       'Bump', 'Crossing', 'Give_Way', 'Junction', 'No_Exit', 'Railway',\n",
       "       'Roundabout', 'Station', 'Stop', 'Traffic_Calming', 'Traffic_Signal',\n",
       "       'Turning_Loop', 'Sunrise_Sunset', 'Civil_Twilight', 'Nautical_Twilight',\n",
       "       'Astronomical_Twilight'],\n",
       "      dtype='object')"
      ]
     },
     "execution_count": 3,
     "metadata": {},
     "output_type": "execute_result"
    }
   ],
   "source": [
    "df.columns #How many columns are there.."
   ]
  },
  {
   "cell_type": "code",
   "execution_count": 4,
   "id": "c7f0881d",
   "metadata": {},
   "outputs": [
    {
     "name": "stdout",
     "output_type": "stream",
     "text": [
      "<class 'pandas.core.frame.DataFrame'>\n",
      "RangeIndex: 1516064 entries, 0 to 1516063\n",
      "Data columns (total 47 columns):\n",
      " #   Column                 Non-Null Count    Dtype  \n",
      "---  ------                 --------------    -----  \n",
      " 0   ID                     1516064 non-null  object \n",
      " 1   Severity               1516064 non-null  int64  \n",
      " 2   Start_Time             1516064 non-null  object \n",
      " 3   End_Time               1516064 non-null  object \n",
      " 4   Start_Lat              1516064 non-null  float64\n",
      " 5   Start_Lng              1516064 non-null  float64\n",
      " 6   End_Lat                1516064 non-null  float64\n",
      " 7   End_Lng                1516064 non-null  float64\n",
      " 8   Distance(mi)           1516064 non-null  float64\n",
      " 9   Description            1516064 non-null  object \n",
      " 10  Number                 469969 non-null   float64\n",
      " 11  Street                 1516064 non-null  object \n",
      " 12  Side                   1516064 non-null  object \n",
      " 13  City                   1515981 non-null  object \n",
      " 14  County                 1516064 non-null  object \n",
      " 15  State                  1516064 non-null  object \n",
      " 16  Zipcode                1515129 non-null  object \n",
      " 17  Country                1516064 non-null  object \n",
      " 18  Timezone               1513762 non-null  object \n",
      " 19  Airport_Code           1511816 non-null  object \n",
      " 20  Weather_Timestamp      1485800 non-null  object \n",
      " 21  Temperature(F)         1473031 non-null  float64\n",
      " 22  Wind_Chill(F)          1066748 non-null  float64\n",
      " 23  Humidity(%)            1470555 non-null  float64\n",
      " 24  Pressure(in)           1479790 non-null  float64\n",
      " 25  Visibility(mi)         1471853 non-null  float64\n",
      " 26  Wind_Direction         1474206 non-null  object \n",
      " 27  Wind_Speed(mph)        1387202 non-null  float64\n",
      " 28  Precipitation(in)      1005515 non-null  float64\n",
      " 29  Weather_Condition      1472057 non-null  object \n",
      " 30  Amenity                1516064 non-null  bool   \n",
      " 31  Bump                   1516064 non-null  bool   \n",
      " 32  Crossing               1516064 non-null  bool   \n",
      " 33  Give_Way               1516064 non-null  bool   \n",
      " 34  Junction               1516064 non-null  bool   \n",
      " 35  No_Exit                1516064 non-null  bool   \n",
      " 36  Railway                1516064 non-null  bool   \n",
      " 37  Roundabout             1516064 non-null  bool   \n",
      " 38  Station                1516064 non-null  bool   \n",
      " 39  Stop                   1516064 non-null  bool   \n",
      " 40  Traffic_Calming        1516064 non-null  bool   \n",
      " 41  Traffic_Signal         1516064 non-null  bool   \n",
      " 42  Turning_Loop           1516064 non-null  bool   \n",
      " 43  Sunrise_Sunset         1515981 non-null  object \n",
      " 44  Civil_Twilight         1515981 non-null  object \n",
      " 45  Nautical_Twilight      1515981 non-null  object \n",
      " 46  Astronomical_Twilight  1515981 non-null  object \n",
      "dtypes: bool(13), float64(13), int64(1), object(20)\n",
      "memory usage: 412.1+ MB\n"
     ]
    }
   ],
   "source": [
    "df.info() #It gives all the basic info about the data.."
   ]
  },
  {
   "cell_type": "code",
   "execution_count": 5,
   "id": "4280ed27",
   "metadata": {},
   "outputs": [
    {
     "data": {
      "text/html": [
       "<div>\n",
       "<style scoped>\n",
       "    .dataframe tbody tr th:only-of-type {\n",
       "        vertical-align: middle;\n",
       "    }\n",
       "\n",
       "    .dataframe tbody tr th {\n",
       "        vertical-align: top;\n",
       "    }\n",
       "\n",
       "    .dataframe thead th {\n",
       "        text-align: right;\n",
       "    }\n",
       "</style>\n",
       "<table border=\"1\" class=\"dataframe\">\n",
       "  <thead>\n",
       "    <tr style=\"text-align: right;\">\n",
       "      <th></th>\n",
       "      <th>Severity</th>\n",
       "      <th>Start_Lat</th>\n",
       "      <th>Start_Lng</th>\n",
       "      <th>End_Lat</th>\n",
       "      <th>End_Lng</th>\n",
       "      <th>Distance(mi)</th>\n",
       "      <th>Number</th>\n",
       "      <th>Temperature(F)</th>\n",
       "      <th>Wind_Chill(F)</th>\n",
       "      <th>Humidity(%)</th>\n",
       "      <th>Pressure(in)</th>\n",
       "      <th>Visibility(mi)</th>\n",
       "      <th>Wind_Speed(mph)</th>\n",
       "      <th>Precipitation(in)</th>\n",
       "    </tr>\n",
       "  </thead>\n",
       "  <tbody>\n",
       "    <tr>\n",
       "      <th>count</th>\n",
       "      <td>1.516064e+06</td>\n",
       "      <td>1.516064e+06</td>\n",
       "      <td>1.516064e+06</td>\n",
       "      <td>1.516064e+06</td>\n",
       "      <td>1.516064e+06</td>\n",
       "      <td>1.516064e+06</td>\n",
       "      <td>4.699690e+05</td>\n",
       "      <td>1.473031e+06</td>\n",
       "      <td>1.066748e+06</td>\n",
       "      <td>1.470555e+06</td>\n",
       "      <td>1.479790e+06</td>\n",
       "      <td>1.471853e+06</td>\n",
       "      <td>1.387202e+06</td>\n",
       "      <td>1.005515e+06</td>\n",
       "    </tr>\n",
       "    <tr>\n",
       "      <th>mean</th>\n",
       "      <td>2.238630e+00</td>\n",
       "      <td>3.690056e+01</td>\n",
       "      <td>-9.859919e+01</td>\n",
       "      <td>3.690061e+01</td>\n",
       "      <td>-9.859901e+01</td>\n",
       "      <td>5.872617e-01</td>\n",
       "      <td>8.907533e+03</td>\n",
       "      <td>5.958460e+01</td>\n",
       "      <td>5.510976e+01</td>\n",
       "      <td>6.465960e+01</td>\n",
       "      <td>2.955495e+01</td>\n",
       "      <td>9.131755e+00</td>\n",
       "      <td>7.630812e+00</td>\n",
       "      <td>8.477855e-03</td>\n",
       "    </tr>\n",
       "    <tr>\n",
       "      <th>std</th>\n",
       "      <td>6.081481e-01</td>\n",
       "      <td>5.165653e+00</td>\n",
       "      <td>1.849602e+01</td>\n",
       "      <td>5.165629e+00</td>\n",
       "      <td>1.849590e+01</td>\n",
       "      <td>1.632659e+00</td>\n",
       "      <td>2.242190e+04</td>\n",
       "      <td>1.827316e+01</td>\n",
       "      <td>2.112735e+01</td>\n",
       "      <td>2.325986e+01</td>\n",
       "      <td>1.016756e+00</td>\n",
       "      <td>2.889112e+00</td>\n",
       "      <td>5.637364e+00</td>\n",
       "      <td>1.293168e-01</td>\n",
       "    </tr>\n",
       "    <tr>\n",
       "      <th>min</th>\n",
       "      <td>1.000000e+00</td>\n",
       "      <td>2.457022e+01</td>\n",
       "      <td>-1.244976e+02</td>\n",
       "      <td>2.457011e+01</td>\n",
       "      <td>-1.244978e+02</td>\n",
       "      <td>0.000000e+00</td>\n",
       "      <td>0.000000e+00</td>\n",
       "      <td>-8.900000e+01</td>\n",
       "      <td>-8.900000e+01</td>\n",
       "      <td>1.000000e+00</td>\n",
       "      <td>0.000000e+00</td>\n",
       "      <td>0.000000e+00</td>\n",
       "      <td>0.000000e+00</td>\n",
       "      <td>0.000000e+00</td>\n",
       "    </tr>\n",
       "    <tr>\n",
       "      <th>25%</th>\n",
       "      <td>2.000000e+00</td>\n",
       "      <td>3.385422e+01</td>\n",
       "      <td>-1.182076e+02</td>\n",
       "      <td>3.385420e+01</td>\n",
       "      <td>-1.182077e+02</td>\n",
       "      <td>0.000000e+00</td>\n",
       "      <td>1.212000e+03</td>\n",
       "      <td>4.700000e+01</td>\n",
       "      <td>4.080000e+01</td>\n",
       "      <td>4.800000e+01</td>\n",
       "      <td>2.944000e+01</td>\n",
       "      <td>1.000000e+01</td>\n",
       "      <td>4.600000e+00</td>\n",
       "      <td>0.000000e+00</td>\n",
       "    </tr>\n",
       "    <tr>\n",
       "      <th>50%</th>\n",
       "      <td>2.000000e+00</td>\n",
       "      <td>3.735113e+01</td>\n",
       "      <td>-9.438100e+01</td>\n",
       "      <td>3.735134e+01</td>\n",
       "      <td>-9.437987e+01</td>\n",
       "      <td>1.780000e-01</td>\n",
       "      <td>4.000000e+03</td>\n",
       "      <td>6.100000e+01</td>\n",
       "      <td>5.700000e+01</td>\n",
       "      <td>6.800000e+01</td>\n",
       "      <td>2.988000e+01</td>\n",
       "      <td>1.000000e+01</td>\n",
       "      <td>7.000000e+00</td>\n",
       "      <td>0.000000e+00</td>\n",
       "    </tr>\n",
       "    <tr>\n",
       "      <th>75%</th>\n",
       "      <td>2.000000e+00</td>\n",
       "      <td>4.072593e+01</td>\n",
       "      <td>-8.087469e+01</td>\n",
       "      <td>4.072593e+01</td>\n",
       "      <td>-8.087449e+01</td>\n",
       "      <td>5.940000e-01</td>\n",
       "      <td>1.010000e+04</td>\n",
       "      <td>7.300000e+01</td>\n",
       "      <td>7.100000e+01</td>\n",
       "      <td>8.400000e+01</td>\n",
       "      <td>3.004000e+01</td>\n",
       "      <td>1.000000e+01</td>\n",
       "      <td>1.040000e+01</td>\n",
       "      <td>0.000000e+00</td>\n",
       "    </tr>\n",
       "    <tr>\n",
       "      <th>max</th>\n",
       "      <td>4.000000e+00</td>\n",
       "      <td>4.900058e+01</td>\n",
       "      <td>-6.711317e+01</td>\n",
       "      <td>4.907500e+01</td>\n",
       "      <td>-6.710924e+01</td>\n",
       "      <td>1.551860e+02</td>\n",
       "      <td>9.999997e+06</td>\n",
       "      <td>1.706000e+02</td>\n",
       "      <td>1.130000e+02</td>\n",
       "      <td>1.000000e+02</td>\n",
       "      <td>5.804000e+01</td>\n",
       "      <td>1.400000e+02</td>\n",
       "      <td>9.840000e+02</td>\n",
       "      <td>2.400000e+01</td>\n",
       "    </tr>\n",
       "  </tbody>\n",
       "</table>\n",
       "</div>"
      ],
      "text/plain": [
       "           Severity     Start_Lat     Start_Lng       End_Lat       End_Lng  \\\n",
       "count  1.516064e+06  1.516064e+06  1.516064e+06  1.516064e+06  1.516064e+06   \n",
       "mean   2.238630e+00  3.690056e+01 -9.859919e+01  3.690061e+01 -9.859901e+01   \n",
       "std    6.081481e-01  5.165653e+00  1.849602e+01  5.165629e+00  1.849590e+01   \n",
       "min    1.000000e+00  2.457022e+01 -1.244976e+02  2.457011e+01 -1.244978e+02   \n",
       "25%    2.000000e+00  3.385422e+01 -1.182076e+02  3.385420e+01 -1.182077e+02   \n",
       "50%    2.000000e+00  3.735113e+01 -9.438100e+01  3.735134e+01 -9.437987e+01   \n",
       "75%    2.000000e+00  4.072593e+01 -8.087469e+01  4.072593e+01 -8.087449e+01   \n",
       "max    4.000000e+00  4.900058e+01 -6.711317e+01  4.907500e+01 -6.710924e+01   \n",
       "\n",
       "       Distance(mi)        Number  Temperature(F)  Wind_Chill(F)  \\\n",
       "count  1.516064e+06  4.699690e+05    1.473031e+06   1.066748e+06   \n",
       "mean   5.872617e-01  8.907533e+03    5.958460e+01   5.510976e+01   \n",
       "std    1.632659e+00  2.242190e+04    1.827316e+01   2.112735e+01   \n",
       "min    0.000000e+00  0.000000e+00   -8.900000e+01  -8.900000e+01   \n",
       "25%    0.000000e+00  1.212000e+03    4.700000e+01   4.080000e+01   \n",
       "50%    1.780000e-01  4.000000e+03    6.100000e+01   5.700000e+01   \n",
       "75%    5.940000e-01  1.010000e+04    7.300000e+01   7.100000e+01   \n",
       "max    1.551860e+02  9.999997e+06    1.706000e+02   1.130000e+02   \n",
       "\n",
       "        Humidity(%)  Pressure(in)  Visibility(mi)  Wind_Speed(mph)  \\\n",
       "count  1.470555e+06  1.479790e+06    1.471853e+06     1.387202e+06   \n",
       "mean   6.465960e+01  2.955495e+01    9.131755e+00     7.630812e+00   \n",
       "std    2.325986e+01  1.016756e+00    2.889112e+00     5.637364e+00   \n",
       "min    1.000000e+00  0.000000e+00    0.000000e+00     0.000000e+00   \n",
       "25%    4.800000e+01  2.944000e+01    1.000000e+01     4.600000e+00   \n",
       "50%    6.800000e+01  2.988000e+01    1.000000e+01     7.000000e+00   \n",
       "75%    8.400000e+01  3.004000e+01    1.000000e+01     1.040000e+01   \n",
       "max    1.000000e+02  5.804000e+01    1.400000e+02     9.840000e+02   \n",
       "\n",
       "       Precipitation(in)  \n",
       "count       1.005515e+06  \n",
       "mean        8.477855e-03  \n",
       "std         1.293168e-01  \n",
       "min         0.000000e+00  \n",
       "25%         0.000000e+00  \n",
       "50%         0.000000e+00  \n",
       "75%         0.000000e+00  \n",
       "max         2.400000e+01  "
      ]
     },
     "execution_count": 5,
     "metadata": {},
     "output_type": "execute_result"
    }
   ],
   "source": [
    "df.describe() #It gives the genreal statistics like mean,max,etc.."
   ]
  },
  {
   "cell_type": "code",
   "execution_count": 6,
   "id": "8cd9cd11",
   "metadata": {},
   "outputs": [
    {
     "data": {
      "text/plain": [
       "14"
      ]
     },
     "execution_count": 6,
     "metadata": {},
     "output_type": "execute_result"
    }
   ],
   "source": [
    "## How many numeric column are there in the data:\n",
    "numeric=[\"int16\",\"int32\",\"int64\",\"float16\",\"float32\",\"float64\"]\n",
    "numeric_df=df.select_dtypes(include=numeric)\n",
    "len(numeric_df.columns)\n",
    "# So there are 14 numeric columns.."
   ]
  },
  {
   "cell_type": "markdown",
   "id": "ca20f7a3",
   "metadata": {},
   "source": [
    "Missing Values:"
   ]
  },
  {
   "cell_type": "code",
   "execution_count": 7,
   "id": "a67238ca",
   "metadata": {},
   "outputs": [
    {
     "data": {
      "text/plain": [
       "ID                             0\n",
       "Severity                       0\n",
       "Start_Time                     0\n",
       "End_Time                       0\n",
       "Start_Lat                      0\n",
       "Start_Lng                      0\n",
       "End_Lat                        0\n",
       "End_Lng                        0\n",
       "Distance(mi)                   0\n",
       "Description                    0\n",
       "Number                   1046095\n",
       "Street                         0\n",
       "Side                           0\n",
       "City                          83\n",
       "County                         0\n",
       "State                          0\n",
       "Zipcode                      935\n",
       "Country                        0\n",
       "Timezone                    2302\n",
       "Airport_Code                4248\n",
       "Weather_Timestamp          30264\n",
       "Temperature(F)             43033\n",
       "Wind_Chill(F)             449316\n",
       "Humidity(%)                45509\n",
       "Pressure(in)               36274\n",
       "Visibility(mi)             44211\n",
       "Wind_Direction             41858\n",
       "Wind_Speed(mph)           128862\n",
       "Precipitation(in)         510549\n",
       "Weather_Condition          44007\n",
       "Amenity                        0\n",
       "Bump                           0\n",
       "Crossing                       0\n",
       "Give_Way                       0\n",
       "Junction                       0\n",
       "No_Exit                        0\n",
       "Railway                        0\n",
       "Roundabout                     0\n",
       "Station                        0\n",
       "Stop                           0\n",
       "Traffic_Calming                0\n",
       "Traffic_Signal                 0\n",
       "Turning_Loop                   0\n",
       "Sunrise_Sunset                83\n",
       "Civil_Twilight                83\n",
       "Nautical_Twilight             83\n",
       "Astronomical_Twilight         83\n",
       "dtype: int64"
      ]
     },
     "execution_count": 7,
     "metadata": {},
     "output_type": "execute_result"
    }
   ],
   "source": [
    "df.isnull().sum() #This gives us how many missing values are there in each columns..."
   ]
  },
  {
   "cell_type": "markdown",
   "id": "10c21e46",
   "metadata": {},
   "source": [
    "Now if we want the percentage of missing values per column:"
   ]
  },
  {
   "cell_type": "code",
   "execution_count": 8,
   "id": "92f82dca",
   "metadata": {},
   "outputs": [
    {
     "data": {
      "text/plain": [
       "Number                   69.000715\n",
       "Precipitation(in)        33.675953\n",
       "Wind_Chill(F)            29.637007\n",
       "Wind_Speed(mph)           8.499773\n",
       "Humidity(%)               3.001786\n",
       "Visibility(mi)            2.916170\n",
       "Weather_Condition         2.902714\n",
       "Temperature(F)            2.838469\n",
       "Wind_Direction            2.760965\n",
       "Pressure(in)              2.392643\n",
       "Weather_Timestamp         1.996222\n",
       "Airport_Code              0.280199\n",
       "Timezone                  0.151841\n",
       "Zipcode                   0.061673\n",
       "Sunrise_Sunset            0.005475\n",
       "Civil_Twilight            0.005475\n",
       "Nautical_Twilight         0.005475\n",
       "Astronomical_Twilight     0.005475\n",
       "City                      0.005475\n",
       "Country                   0.000000\n",
       "Give_Way                  0.000000\n",
       "Start_Time                0.000000\n",
       "End_Time                  0.000000\n",
       "Start_Lat                 0.000000\n",
       "Turning_Loop              0.000000\n",
       "Traffic_Signal            0.000000\n",
       "Traffic_Calming           0.000000\n",
       "Stop                      0.000000\n",
       "Station                   0.000000\n",
       "Roundabout                0.000000\n",
       "Railway                   0.000000\n",
       "No_Exit                   0.000000\n",
       "Junction                  0.000000\n",
       "Crossing                  0.000000\n",
       "State                     0.000000\n",
       "Bump                      0.000000\n",
       "Amenity                   0.000000\n",
       "Start_Lng                 0.000000\n",
       "End_Lat                   0.000000\n",
       "End_Lng                   0.000000\n",
       "Distance(mi)              0.000000\n",
       "Description               0.000000\n",
       "Street                    0.000000\n",
       "Severity                  0.000000\n",
       "Side                      0.000000\n",
       "County                    0.000000\n",
       "ID                        0.000000\n",
       "dtype: float64"
      ]
     },
     "execution_count": 8,
     "metadata": {},
     "output_type": "execute_result"
    }
   ],
   "source": [
    "missing_values_percentage=(df.isnull().sum().sort_values(ascending=False)/len(df))*100\n",
    "missing_values_percentage\n",
    "# It gives the percentage of the missing values are there..."
   ]
  },
  {
   "cell_type": "markdown",
   "id": "2f21dbe7",
   "metadata": {},
   "source": [
    "Now we will see this using a graph:"
   ]
  },
  {
   "cell_type": "code",
   "execution_count": 9,
   "id": "e19132b5",
   "metadata": {},
   "outputs": [
    {
     "data": {
      "text/plain": [
       "<AxesSubplot:>"
      ]
     },
     "execution_count": 9,
     "metadata": {},
     "output_type": "execute_result"
    },
    {
     "data": {
      "image/png": "[encoded data removed]",
      "text/plain": [
       "<Figure size 432x288 with 1 Axes>"
      ]
     },
     "metadata": {
      "needs_background": "light"
     },
     "output_type": "display_data"
    }
   ],
   "source": [
    "missing_values_percentage.plot(kind=\"barh\")\n",
    "# This looks good, but it is not readable, so I think I should remove the column which has 0% of the missing values"
   ]
  },
  {
   "cell_type": "code",
   "execution_count": 10,
   "id": "f5a8f089",
   "metadata": {},
   "outputs": [
    {
     "data": {
      "text/plain": [
       "Number                   69.000715\n",
       "Precipitation(in)        33.675953\n",
       "Wind_Chill(F)            29.637007\n",
       "Wind_Speed(mph)           8.499773\n",
       "Humidity(%)               3.001786\n",
       "Visibility(mi)            2.916170\n",
       "Weather_Condition         2.902714\n",
       "Temperature(F)            2.838469\n",
       "Wind_Direction            2.760965\n",
       "Pressure(in)              2.392643\n",
       "Weather_Timestamp         1.996222\n",
       "Airport_Code              0.280199\n",
       "Timezone                  0.151841\n",
       "Zipcode                   0.061673\n",
       "Sunrise_Sunset            0.005475\n",
       "Civil_Twilight            0.005475\n",
       "Nautical_Twilight         0.005475\n",
       "Astronomical_Twilight     0.005475\n",
       "City                      0.005475\n",
       "dtype: float64"
      ]
     },
     "execution_count": 10,
     "metadata": {},
     "output_type": "execute_result"
    }
   ],
   "source": [
    "missing_values_percentage[missing_values_percentage!=0]\n",
    "# Data which has the missing value, rest are being removed..."
   ]
  },
  {
   "cell_type": "markdown",
   "id": "1f985b6f",
   "metadata": {},
   "source": [
    "Now again plotting a graph for the better visualization:"
   ]
  },
  {
   "cell_type": "code",
   "execution_count": 11,
   "id": "a1c55822",
   "metadata": {},
   "outputs": [
    {
     "data": {
      "text/plain": [
       "<AxesSubplot:>"
      ]
     },
     "execution_count": 11,
     "metadata": {},
     "output_type": "execute_result"
    },
    {
     "data": {
      "image/png": "[encoded data removed]",
      "text/plain": [
       "<Figure size 432x288 with 1 Axes>"
      ]
     },
     "metadata": {
      "needs_background": "light"
     },
     "output_type": "display_data"
    }
   ],
   "source": [
    "missing_values_percentage[missing_values_percentage!=0].plot(kind=\"barh\")"
   ]
  },
  {
   "cell_type": "markdown",
   "id": "dc000c17",
   "metadata": {},
   "source": [
    "Now the above graph is readable:"
   ]
  },
  {
   "cell_type": "markdown",
   "id": "3c6fafe6",
   "metadata": {},
   "source": [
    "### Now removing the column which are not used in the Analysis:"
   ]
  },
  {
   "cell_type": "code",
   "execution_count": null,
   "id": "fe0492ab",
   "metadata": {},
   "outputs": [],
   "source": []
  },
  {
   "cell_type": "code",
   "execution_count": null,
   "id": "613ff0b2",
   "metadata": {},
   "outputs": [],
   "source": []
  },
  {
   "cell_type": "markdown",
   "id": "c60e303e",
   "metadata": {},
   "source": [
    "## Exploratory Analysis and Visualization:"
   ]
  },
  {
   "cell_type": "code",
   "execution_count": 12,
   "id": "70eb6f33",
   "metadata": {},
   "outputs": [
    {
     "data": {
      "text/plain": [
       "Index(['ID', 'Severity', 'Start_Time', 'End_Time', 'Start_Lat', 'Start_Lng',\n",
       "       'End_Lat', 'End_Lng', 'Distance(mi)', 'Description', 'Number', 'Street',\n",
       "       'Side', 'City', 'County', 'State', 'Zipcode', 'Country', 'Timezone',\n",
       "       'Airport_Code', 'Weather_Timestamp', 'Temperature(F)', 'Wind_Chill(F)',\n",
       "       'Humidity(%)', 'Pressure(in)', 'Visibility(mi)', 'Wind_Direction',\n",
       "       'Wind_Speed(mph)', 'Precipitation(in)', 'Weather_Condition', 'Amenity',\n",
       "       'Bump', 'Crossing', 'Give_Way', 'Junction', 'No_Exit', 'Railway',\n",
       "       'Roundabout', 'Station', 'Stop', 'Traffic_Calming', 'Traffic_Signal',\n",
       "       'Turning_Loop', 'Sunrise_Sunset', 'Civil_Twilight', 'Nautical_Twilight',\n",
       "       'Astronomical_Twilight'],\n",
       "      dtype='object')"
      ]
     },
     "execution_count": 12,
     "metadata": {},
     "output_type": "execute_result"
    }
   ],
   "source": [
    "## For this we will be taking 4-5 columns and plotting the graph to check that how it looks like...\n",
    "## Taking... \"city\",\"start time\",\"start lat\",\"start lng\",\"Temperature\",\"Weather_condition\"\n",
    "df.columns"
   ]
  },
  {
   "cell_type": "markdown",
   "id": "8392ca58",
   "metadata": {},
   "source": [
    "Doing basic analtysis on the columns as: \"city\",\"start time\",\"start lat\",\"start lng\",\"Temperature\",\"Weather_condition\""
   ]
  },
  {
   "cell_type": "code",
   "execution_count": 13,
   "id": "adf2b5a7",
   "metadata": {},
   "outputs": [
    {
     "data": {
      "text/plain": [
       "10657"
      ]
     },
     "execution_count": 13,
     "metadata": {},
     "output_type": "execute_result"
    }
   ],
   "source": [
    "'''City'''\n",
    "df[\"City\"].nunique()# It means that there are 10657 unique cities in the data.."
   ]
  },
  {
   "cell_type": "code",
   "execution_count": 14,
   "id": "80f43405",
   "metadata": {},
   "outputs": [
    {
     "data": {
      "text/plain": [
       "Los Angeles    39984\n",
       "Miami          36233\n",
       "Charlotte      22203\n",
       "Houston        20843\n",
       "Dallas         19497\n",
       "               ...  \n",
       "Fitzhugh           1\n",
       "Marenisco          1\n",
       "Seale              1\n",
       "Zavalla            1\n",
       "Gooding            1\n",
       "Name: City, Length: 10657, dtype: int64"
      ]
     },
     "execution_count": 14,
     "metadata": {},
     "output_type": "execute_result"
    }
   ],
   "source": [
    "'''TOP 10 city which has the more number of accidents:'''\n",
    "cities_by_accidents=df[\"City\"].value_counts()\n",
    "cities_by_accidents\n",
    "# This doesn't contains the data of the \"New York\""
   ]
  },
  {
   "cell_type": "code",
   "execution_count": 15,
   "id": "4276f925",
   "metadata": {},
   "outputs": [
    {
     "data": {
      "text/plain": [
       "<AxesSubplot:>"
      ]
     },
     "execution_count": 15,
     "metadata": {},
     "output_type": "execute_result"
    },
    {
     "data": {
      "image/png": "[encoded data removed]",
      "text/plain": [
       "<Figure size 432x288 with 1 Axes>"
      ]
     },
     "metadata": {
      "needs_background": "light"
     },
     "output_type": "display_data"
    }
   ],
   "source": [
    "'''Plotting a graph:'''\n",
    "cities_by_accidents.head(20).plot(kind=\"barh\")"
   ]
  },
  {
   "cell_type": "code",
   "execution_count": 16,
   "id": "b056428d",
   "metadata": {},
   "outputs": [],
   "source": [
    "'''How the distribution looks like of which the cities has small numnber of accidents or do cities have high no of acc. '''\n",
    "'''PLotting histogram:'''\n",
    "import seaborn as sns\n",
    "sns.set_style(\"darkgrid\")"
   ]
  },
  {
   "cell_type": "code",
   "execution_count": 17,
   "id": "1651a328",
   "metadata": {},
   "outputs": [
    {
     "name": "stderr",
     "output_type": "stream",
     "text": [
      "C:\\Users\\Ankit\\anaconda3\\lib\\site-packages\\seaborn\\distributions.py:2557: FutureWarning: `distplot` is a deprecated function and will be removed in a future version. Please adapt your code to use either `displot` (a figure-level function with similar flexibility) or `histplot` (an axes-level function for histograms).\n",
      "  warnings.warn(msg, FutureWarning)\n"
     ]
    },
    {
     "data": {
      "text/plain": [
       "<AxesSubplot:xlabel='City', ylabel='Density'>"
      ]
     },
     "execution_count": 17,
     "metadata": {},
     "output_type": "execute_result"
    },
    {
     "data": {
      "image/png": "[encoded data removed]",
      "text/plain": [
       "<Figure size 432x288 with 1 Axes>"
      ]
     },
     "metadata": {},
     "output_type": "display_data"
    }
   ],
   "source": [
    "sns.distplot(cities_by_accidents)"
   ]
  },
  {
   "cell_type": "code",
   "execution_count": 18,
   "id": "b24a38be",
   "metadata": {},
   "outputs": [],
   "source": [
    "high_accidents_cities=cities_by_accidents[cities_by_accidents>=1000]\n",
    "low_accidents_cities=cities_by_accidents[cities_by_accidents<1000]"
   ]
  },
  {
   "cell_type": "code",
   "execution_count": 19,
   "id": "163cdd06",
   "metadata": {},
   "outputs": [
    {
     "data": {
      "text/plain": [
       "251"
      ]
     },
     "execution_count": 19,
     "metadata": {},
     "output_type": "execute_result"
    }
   ],
   "source": [
    "high_accidents_cities.shape[0]# So there are 251 cities which has more than 1000 accidents.."
   ]
  },
  {
   "cell_type": "code",
   "execution_count": 20,
   "id": "767eee6a",
   "metadata": {},
   "outputs": [
    {
     "data": {
      "text/plain": [
       "10657"
      ]
     },
     "execution_count": 20,
     "metadata": {},
     "output_type": "execute_result"
    }
   ],
   "source": [
    "df[\"City\"].nunique()\n"
   ]
  },
  {
   "cell_type": "markdown",
   "id": "a8c113b3",
   "metadata": {},
   "source": [
    "Insights:"
   ]
  },
  {
   "cell_type": "code",
   "execution_count": 21,
   "id": "d442d58f",
   "metadata": {},
   "outputs": [
    {
     "data": {
      "text/plain": [
       "2.3552594538800786"
      ]
     },
     "execution_count": 21,
     "metadata": {},
     "output_type": "execute_result"
    }
   ],
   "source": [
    "'''Percentage:'''\n",
    "(high_accidents_cities.shape[0]/df[\"City\"].nunique())*100\n",
    "# Less than 2.35% of the cities have more than a thousands accidents.."
   ]
  },
  {
   "cell_type": "markdown",
   "id": "c9909b13",
   "metadata": {},
   "source": [
    "Now we can plot dist plot():"
   ]
  },
  {
   "cell_type": "code",
   "execution_count": 22,
   "id": "11d10f9d",
   "metadata": {},
   "outputs": [
    {
     "name": "stderr",
     "output_type": "stream",
     "text": [
      "C:\\Users\\Ankit\\anaconda3\\lib\\site-packages\\seaborn\\distributions.py:2557: FutureWarning: `distplot` is a deprecated function and will be removed in a future version. Please adapt your code to use either `displot` (a figure-level function with similar flexibility) or `histplot` (an axes-level function for histograms).\n",
      "  warnings.warn(msg, FutureWarning)\n"
     ]
    },
    {
     "data": {
      "text/plain": [
       "<AxesSubplot:xlabel='City', ylabel='Density'>"
      ]
     },
     "execution_count": 22,
     "metadata": {},
     "output_type": "execute_result"
    },
    {
     "data": {
      "image/png": "[encoded data removed]",
      "text/plain": [
       "<Figure size 432x288 with 1 Axes>"
      ]
     },
     "metadata": {},
     "output_type": "display_data"
    }
   ],
   "source": [
    "sns.distplot(high_accidents_cities)\n",
    "## Exponentially decreasing type of graph.."
   ]
  },
  {
   "cell_type": "code",
   "execution_count": 23,
   "id": "ff717dcd",
   "metadata": {},
   "outputs": [
    {
     "data": {
      "text/plain": [
       "10406"
      ]
     },
     "execution_count": 23,
     "metadata": {},
     "output_type": "execute_result"
    }
   ],
   "source": [
    "len(low_accidents_cities) # So there are 10406 cities which has less than 1000 accidents.."
   ]
  },
  {
   "cell_type": "markdown",
   "id": "4e48579d",
   "metadata": {},
   "source": [
    "Insights:"
   ]
  },
  {
   "cell_type": "code",
   "execution_count": 24,
   "id": "7f4155a7",
   "metadata": {},
   "outputs": [
    {
     "data": {
      "text/plain": [
       "97.64474054611992"
      ]
     },
     "execution_count": 24,
     "metadata": {},
     "output_type": "execute_result"
    }
   ],
   "source": [
    "'''Percentage:'''\n",
    "(low_accidents_cities.shape[0]/df[\"City\"].nunique())*100\n",
    "## More than 97% of the cities have less than a 1000 accidents..."
   ]
  },
  {
   "cell_type": "code",
   "execution_count": 25,
   "id": "d158bb7f",
   "metadata": {},
   "outputs": [
    {
     "name": "stderr",
     "output_type": "stream",
     "text": [
      "C:\\Users\\Ankit\\anaconda3\\lib\\site-packages\\seaborn\\distributions.py:2557: FutureWarning: `distplot` is a deprecated function and will be removed in a future version. Please adapt your code to use either `displot` (a figure-level function with similar flexibility) or `histplot` (an axes-level function for histograms).\n",
      "  warnings.warn(msg, FutureWarning)\n"
     ]
    },
    {
     "data": {
      "text/plain": [
       "<AxesSubplot:xlabel='City', ylabel='Density'>"
      ]
     },
     "execution_count": 25,
     "metadata": {},
     "output_type": "execute_result"
    },
    {
     "data": {
      "image/png": "[encoded data removed]",
      "text/plain": [
       "<Figure size 432x288 with 1 Axes>"
      ]
     },
     "metadata": {},
     "output_type": "display_data"
    }
   ],
   "source": [
    "sns.distplot(low_accidents_cities)"
   ]
  },
  {
   "cell_type": "code",
   "execution_count": 26,
   "id": "81d1e4d9",
   "metadata": {},
   "outputs": [
    {
     "data": {
      "text/plain": [
       "<AxesSubplot:xlabel='City', ylabel='Count'>"
      ]
     },
     "execution_count": 26,
     "metadata": {},
     "output_type": "execute_result"
    },
    {
     "data": {
      "image/png": "[encoded data removed]",
      "text/plain": [
       "<Figure size 432x288 with 1 Axes>"
      ]
     },
     "metadata": {},
     "output_type": "display_data"
    }
   ],
   "source": [
    "sns.histplot(cities_by_accidents,log_scale=True)"
   ]
  },
  {
   "cell_type": "markdown",
   "id": "c5fb21ed",
   "metadata": {},
   "source": [
    "This is unusual that more than 1200 cities have reported only one accident"
   ]
  },
  {
   "cell_type": "code",
   "execution_count": 27,
   "id": "0c726740",
   "metadata": {},
   "outputs": [
    {
     "data": {
      "text/plain": [
       "0          2016-02-08 00:37:08\n",
       "1          2016-02-08 05:56:20\n",
       "2          2016-02-08 06:15:39\n",
       "3          2016-02-08 06:15:39\n",
       "4          2016-02-08 06:51:45\n",
       "                  ...         \n",
       "1516059    2019-08-23 18:03:25\n",
       "1516060    2019-08-23 19:11:30\n",
       "1516061    2019-08-23 19:00:21\n",
       "1516062    2019-08-23 19:00:21\n",
       "1516063    2019-08-23 18:52:06\n",
       "Name: Start_Time, Length: 1516064, dtype: object"
      ]
     },
     "execution_count": 27,
     "metadata": {},
     "output_type": "execute_result"
    }
   ],
   "source": [
    "'''Start Time:'''\n",
    "df[\"Start_Time\"]"
   ]
  },
  {
   "cell_type": "markdown",
   "id": "a8b1560e",
   "metadata": {},
   "source": [
    "Converting this string to date_time:"
   ]
  },
  {
   "cell_type": "code",
   "execution_count": 28,
   "id": "e72367da",
   "metadata": {},
   "outputs": [],
   "source": [
    "df[\"Start_Time\"]=pd.to_datetime(df[\"Start_Time\"])\n",
    "# Now the Start Time has converte to date time format.."
   ]
  },
  {
   "cell_type": "code",
   "execution_count": 29,
   "id": "946189bf",
   "metadata": {},
   "outputs": [
    {
     "data": {
      "text/plain": [
       "Timestamp('2016-02-08 00:37:08')"
      ]
     },
     "execution_count": 29,
     "metadata": {},
     "output_type": "execute_result"
    }
   ],
   "source": [
    "df[\"Start_Time\"][0]"
   ]
  },
  {
   "cell_type": "markdown",
   "id": "67d90f20",
   "metadata": {},
   "source": [
    "Plottinga histogram that tells us that how many accidents  takes place in which hour of the day..."
   ]
  },
  {
   "cell_type": "code",
   "execution_count": 32,
   "id": "b6362432",
   "metadata": {},
   "outputs": [
    {
     "data": {
      "text/plain": [
       "<AxesSubplot:xlabel='Start_Time', ylabel='Count'>"
      ]
     },
     "execution_count": 32,
     "metadata": {},
     "output_type": "execute_result"
    },
    {
     "data": {
      "image/png": "[encoded data removed]",
      "text/plain": [
       "<Figure size 432x288 with 1 Axes>"
      ]
     },
     "metadata": {},
     "output_type": "display_data"
    }
   ],
   "source": [
    "sns.histplot(df[\"Start_Time\"].dt.hour,bins=24) #bins gives the 24 because in time there are 24 hours in a day."
   ]
  },
  {
   "cell_type": "markdown",
   "id": "ca9f7d2c",
   "metadata": {},
   "source": [
    "So between 3pm to 6pm there would be most accidents took place as this time is of office completion.."
   ]
  },
  {
   "cell_type": "markdown",
   "id": "679af87d",
   "metadata": {},
   "source": [
    "#### Q.) Is the distribution of accidents by hour the same on weekends as on weekdays?"
   ]
  },
  {
   "cell_type": "code",
   "execution_count": 50,
   "id": "cecb0834",
   "metadata": {},
   "outputs": [
    {
     "name": "stderr",
     "output_type": "stream",
     "text": [
      "C:\\Users\\Ankit\\anaconda3\\lib\\site-packages\\seaborn\\distributions.py:2557: FutureWarning: `distplot` is a deprecated function and will be removed in a future version. Please adapt your code to use either `displot` (a figure-level function with similar flexibility) or `histplot` (an axes-level function for histograms).\n",
      "  warnings.warn(msg, FutureWarning)\n"
     ]
    },
    {
     "data": {
      "text/plain": [
       "<AxesSubplot:xlabel='Start_Time'>"
      ]
     },
     "execution_count": 50,
     "metadata": {},
     "output_type": "execute_result"
    },
    {
     "data": {
      "image/png": "[encoded data removed]",
      "text/plain": [
       "<Figure size 432x288 with 1 Axes>"
      ]
     },
     "metadata": {},
     "output_type": "display_data"
    }
   ],
   "source": [
    "'''For this we first the data of just weekends as:'''\n",
    "weekend_start_time=df[\"Start_Time\"][(df[\"Start_Time\"].dt.dayofweek==5)|(df[\"Start_Time\"].dt.dayofweek==6)]\n",
    "sns.distplot(weekend_start_time.dt.hour,bins=24,kde=False,norm_hist=True)"
   ]
  },
  {
   "cell_type": "markdown",
   "id": "601c206e",
   "metadata": {},
   "source": [
    "On weekends, accidents occurs mainly between morning 1am -4am, then we see gradually decreasing in the accidents, but the peak comes in between 1pm - 8pm..."
   ]
  },
  {
   "cell_type": "markdown",
   "id": "1104ef3c",
   "metadata": {},
   "source": [
    "This is the distribution plot of the weekends (Saturday & Sunday):"
   ]
  },
  {
   "cell_type": "markdown",
   "id": "28561cca",
   "metadata": {},
   "source": [
    "Now if I plot for weekdays that is (monday, tuesday, wednesday, thursday,friday):"
   ]
  },
  {
   "cell_type": "code",
   "execution_count": 56,
   "id": "eaa1e9e8",
   "metadata": {},
   "outputs": [
    {
     "name": "stderr",
     "output_type": "stream",
     "text": [
      "C:\\Users\\Ankit\\anaconda3\\lib\\site-packages\\seaborn\\distributions.py:2557: FutureWarning: `distplot` is a deprecated function and will be removed in a future version. Please adapt your code to use either `displot` (a figure-level function with similar flexibility) or `histplot` (an axes-level function for histograms).\n",
      "  warnings.warn(msg, FutureWarning)\n"
     ]
    },
    {
     "data": {
      "text/plain": [
       "<AxesSubplot:xlabel='Start_Time'>"
      ]
     },
     "execution_count": 56,
     "metadata": {},
     "output_type": "execute_result"
    },
    {
     "data": {
      "image/png": "[encoded data removed]",
      "text/plain": [
       "<Figure size 432x288 with 1 Axes>"
      ]
     },
     "metadata": {},
     "output_type": "display_data"
    }
   ],
   "source": [
    "weekdays_start_time=df[\"Start_Time\"][(df[\"Start_Time\"].dt.dayofweek==0)|(df[\"Start_Time\"].dt.dayofweek==1)\n",
    "                                    |(df[\"Start_Time\"].dt.dayofweek==2)|(df[\"Start_Time\"].dt.dayofweek==3)\n",
    "                                    |(df[\"Start_Time\"].dt.dayofweek==4)]\n",
    "sns.distplot(weekdays_start_time.dt.hour,bins=24,kde=False,norm_hist=True)\n",
    "#norm_hist=True gives the percentage, if we put False, then it will give the count..\n",
    "#kde=False gives graph without the zigzag curve, but if we put True, then it will give the zigzag in the plotting.."
   ]
  },
  {
   "cell_type": "markdown",
   "id": "b2415150",
   "metadata": {},
   "source": [
    "On Weekdays, the peak comes in between 2pm-5pm:"
   ]
  },
  {
   "cell_type": "markdown",
   "id": "b540b4e6",
   "metadata": {},
   "source": [
    "Months:"
   ]
  },
  {
   "cell_type": "code",
   "execution_count": 58,
   "id": "d839decf",
   "metadata": {},
   "outputs": [
    {
     "data": {
      "text/plain": [
       "<AxesSubplot:xlabel='Start_Time'>"
      ]
     },
     "execution_count": 58,
     "metadata": {},
     "output_type": "execute_result"
    },
    {
     "data": {
      "image/png": "[encoded data removed]",
      "text/plain": [
       "<Figure size 432x288 with 1 Axes>"
      ]
     },
     "metadata": {},
     "output_type": "display_data"
    }
   ],
   "source": [
    "sns.distplot(weekdays_start_time.dt.month,bins=12,kde=False,norm_hist=True)\n",
    "# so the peak comes in Decemvber as after August, accidents graph gradually increases.."
   ]
  },
  {
   "cell_type": "markdown",
   "id": "a2f111c4",
   "metadata": {},
   "source": [
    "### start_Lat & start_lng: Now doing analysis on one of the columns:"
   ]
  },
  {
   "cell_type": "code",
   "execution_count": 59,
   "id": "9f933b46",
   "metadata": {},
   "outputs": [
    {
     "data": {
      "text/plain": [
       "0          40.10891\n",
       "1          39.86542\n",
       "2          39.10266\n",
       "3          39.10148\n",
       "4          41.06213\n",
       "             ...   \n",
       "1516059    34.00248\n",
       "1516060    32.76696\n",
       "1516061    33.77545\n",
       "1516062    33.99246\n",
       "1516063    34.13393\n",
       "Name: Start_Lat, Length: 1516064, dtype: float64"
      ]
     },
     "execution_count": 59,
     "metadata": {},
     "output_type": "execute_result"
    }
   ],
   "source": [
    "df[\"Start_Lat\"]"
   ]
  },
  {
   "cell_type": "code",
   "execution_count": 60,
   "id": "6ab6c3b8",
   "metadata": {},
   "outputs": [
    {
     "data": {
      "text/plain": [
       "0          -83.09286\n",
       "1          -84.06280\n",
       "2          -84.52468\n",
       "3          -84.52341\n",
       "4          -81.53784\n",
       "             ...    \n",
       "1516059   -117.37936\n",
       "1516060   -117.14806\n",
       "1516061   -117.84779\n",
       "1516062   -118.40302\n",
       "1516063   -117.23092\n",
       "Name: Start_Lng, Length: 1516064, dtype: float64"
      ]
     },
     "execution_count": 60,
     "metadata": {},
     "output_type": "execute_result"
    }
   ],
   "source": [
    "df[\"Start_Lng\"]"
   ]
  },
  {
   "cell_type": "markdown",
   "id": "8f3ba076",
   "metadata": {},
   "source": [
    "Plotting the scatter graph:"
   ]
  },
  {
   "cell_type": "code",
   "execution_count": 61,
   "id": "2dbde71d",
   "metadata": {},
   "outputs": [
    {
     "data": {
      "text/plain": [
       "<AxesSubplot:xlabel='Start_Lng', ylabel='Start_Lat'>"
      ]
     },
     "execution_count": 61,
     "metadata": {},
     "output_type": "execute_result"
    },
    {
     "data": {
      "image/png": "[encoded data removed]",
      "text/plain": [
       "<Figure size 432x288 with 1 Axes>"
      ]
     },
     "metadata": {},
     "output_type": "display_data"
    }
   ],
   "source": [
    "sns.scatterplot(x=df[\"Start_Lng\"],y=df[\"Start_Lat\"])"
   ]
  },
  {
   "cell_type": "markdown",
   "id": "34795e64",
   "metadata": {},
   "source": [
    "Now if we want this data to be on map"
   ]
  },
  {
   "cell_type": "code",
   "execution_count": 63,
   "id": "1dd3cecb",
   "metadata": {},
   "outputs": [],
   "source": [
    "import folium"
   ]
  },
  {
   "cell_type": "code",
   "execution_count": 66,
   "id": "678775b8",
   "metadata": {},
   "outputs": [
    {
     "data": {
      "text/plain": [
       "(40.10891, -83.09286)"
      ]
     },
     "execution_count": 66,
     "metadata": {},
     "output_type": "execute_result"
    }
   ],
   "source": [
    "lat,long=df[\"Start_Lat\"][0],df[\"Start_Lng\"][0]\n",
    "lat,long"
   ]
  },
  {
   "cell_type": "code",
   "execution_count": 68,
   "id": "58eae16c",
   "metadata": {},
   "outputs": [
    {
     "data": {
      "text/html": [
       "<div style=\"width:100%;\"><div style=\"position:relative;width:100%;height:0;padding-bottom:60%;\"><span style=\"color:#565656\">Make this Notebook Trusted to load map: File -> Trust Notebook</span><iframe src=\"about:blank\" style=\"position:absolute;width:100%;height:100%;left:0;top:0;border:none !important;\" data-html=%3C%21DOCTYPE%20html%3E%0A%3Chead%3E%20%20%20%20%0A%20%20%20%20%3Cmeta%20http-equiv%3D%22content-type%22%20content%3D%22text/html%3B%20charset%3DUTF-8%22%20/%3E%0A%20%20%20%20%0A%20%20%20%20%20%20%20%20%3Cscript%3E%0A%20%20%20%20%20%20%20%20%20%20%20%20L_NO_TOUCH%20%3D%20false%3B%0A%20%20%20%20%20%20%20%20%20%20%20%20L_DISABLE_3D%20%3D%20false%3B%0A%20%20%20%20%20%20%20%20%3C/script%3E%0A%20%20%20%20%0A%20%20%20%20%3Cstyle%3Ehtml%2C%20body%20%7Bwidth%3A%20100%25%3Bheight%3A%20100%25%3Bmargin%3A%200%3Bpadding%3A%200%3B%7D%3C/style%3E%0A%20%20%20%20%3Cstyle%3E%23map%20%7Bposition%3Aabsolute%3Btop%3A0%3Bbottom%3A0%3Bright%3A0%3Bleft%3A0%3B%7D%3C/style%3E%0A%20%20%20%20%3Cscript%20src%3D%22https%3A//cdn.jsdelivr.net/npm/leaflet%401.6.0/dist/leaflet.js%22%3E%3C/script%3E%0A%20%20%20%20%3Cscript%20src%3D%22https%3A//code.jquery.com/jquery-1.12.4.min.js%22%3E%3C/script%3E%0A%20%20%20%20%3Cscript%20src%3D%22https%3A//maxcdn.bootstrapcdn.com/bootstrap/3.2.0/js/bootstrap.min.js%22%3E%3C/script%3E%0A%20%20%20%20%3Cscript%20src%3D%22https%3A//cdnjs.cloudflare.com/ajax/libs/Leaflet.awesome-markers/2.0.2/leaflet.awesome-markers.js%22%3E%3C/script%3E%0A%20%20%20%20%3Clink%20rel%3D%22stylesheet%22%20href%3D%22https%3A//cdn.jsdelivr.net/npm/leaflet%401.6.0/dist/leaflet.css%22/%3E%0A%20%20%20%20%3Clink%20rel%3D%22stylesheet%22%20href%3D%22https%3A//maxcdn.bootstrapcdn.com/bootstrap/3.2.0/css/bootstrap.min.css%22/%3E%0A%20%20%20%20%3Clink%20rel%3D%22stylesheet%22%20href%3D%22https%3A//maxcdn.bootstrapcdn.com/bootstrap/3.2.0/css/bootstrap-theme.min.css%22/%3E%0A%20%20%20%20%3Clink%20rel%3D%22stylesheet%22%20href%3D%22https%3A//maxcdn.bootstrapcdn.com/font-awesome/4.6.3/css/font-awesome.min.css%22/%3E%0A%20%20%20%20%3Clink%20rel%3D%22stylesheet%22%20href%3D%22https%3A//cdnjs.cloudflare.com/ajax/libs/Leaflet.awesome-markers/2.0.2/leaflet.awesome-markers.css%22/%3E%0A%20%20%20%20%3Clink%20rel%3D%22stylesheet%22%20href%3D%22https%3A//cdn.jsdelivr.net/gh/python-visualization/folium/folium/templates/leaflet.awesome.rotate.min.css%22/%3E%0A%20%20%20%20%0A%20%20%20%20%20%20%20%20%20%20%20%20%3Cmeta%20name%3D%22viewport%22%20content%3D%22width%3Ddevice-width%2C%0A%20%20%20%20%20%20%20%20%20%20%20%20%20%20%20%20initial-scale%3D1.0%2C%20maximum-scale%3D1.0%2C%20user-scalable%3Dno%22%20/%3E%0A%20%20%20%20%20%20%20%20%20%20%20%20%3Cstyle%3E%0A%20%20%20%20%20%20%20%20%20%20%20%20%20%20%20%20%23map_c182aa62045d4b4e82cbaddd237173eb%20%7B%0A%20%20%20%20%20%20%20%20%20%20%20%20%20%20%20%20%20%20%20%20position%3A%20relative%3B%0A%20%20%20%20%20%20%20%20%20%20%20%20%20%20%20%20%20%20%20%20width%3A%20100.0%25%3B%0A%20%20%20%20%20%20%20%20%20%20%20%20%20%20%20%20%20%20%20%20height%3A%20100.0%25%3B%0A%20%20%20%20%20%20%20%20%20%20%20%20%20%20%20%20%20%20%20%20left%3A%200.0%25%3B%0A%20%20%20%20%20%20%20%20%20%20%20%20%20%20%20%20%20%20%20%20top%3A%200.0%25%3B%0A%20%20%20%20%20%20%20%20%20%20%20%20%20%20%20%20%7D%0A%20%20%20%20%20%20%20%20%20%20%20%20%3C/style%3E%0A%20%20%20%20%20%20%20%20%0A%3C/head%3E%0A%3Cbody%3E%20%20%20%20%0A%20%20%20%20%0A%20%20%20%20%20%20%20%20%20%20%20%20%3Cdiv%20class%3D%22folium-map%22%20id%3D%22map_c182aa62045d4b4e82cbaddd237173eb%22%20%3E%3C/div%3E%0A%20%20%20%20%20%20%20%20%0A%3C/body%3E%0A%3Cscript%3E%20%20%20%20%0A%20%20%20%20%0A%20%20%20%20%20%20%20%20%20%20%20%20var%20map_c182aa62045d4b4e82cbaddd237173eb%20%3D%20L.map%28%0A%20%20%20%20%20%20%20%20%20%20%20%20%20%20%20%20%22map_c182aa62045d4b4e82cbaddd237173eb%22%2C%0A%20%20%20%20%20%20%20%20%20%20%20%20%20%20%20%20%7B%0A%20%20%20%20%20%20%20%20%20%20%20%20%20%20%20%20%20%20%20%20center%3A%20%5B0%2C%200%5D%2C%0A%20%20%20%20%20%20%20%20%20%20%20%20%20%20%20%20%20%20%20%20crs%3A%20L.CRS.EPSG3857%2C%0A%20%20%20%20%20%20%20%20%20%20%20%20%20%20%20%20%20%20%20%20zoom%3A%201%2C%0A%20%20%20%20%20%20%20%20%20%20%20%20%20%20%20%20%20%20%20%20zoomControl%3A%20true%2C%0A%20%20%20%20%20%20%20%20%20%20%20%20%20%20%20%20%20%20%20%20preferCanvas%3A%20false%2C%0A%20%20%20%20%20%20%20%20%20%20%20%20%20%20%20%20%7D%0A%20%20%20%20%20%20%20%20%20%20%20%20%29%3B%0A%0A%20%20%20%20%20%20%20%20%20%20%20%20%0A%0A%20%20%20%20%20%20%20%20%0A%20%20%20%20%0A%20%20%20%20%20%20%20%20%20%20%20%20var%20tile_layer_27121664741a41f583ef8027ee4d49b2%20%3D%20L.tileLayer%28%0A%20%20%20%20%20%20%20%20%20%20%20%20%20%20%20%20%22https%3A//%7Bs%7D.tile.openstreetmap.org/%7Bz%7D/%7Bx%7D/%7By%7D.png%22%2C%0A%20%20%20%20%20%20%20%20%20%20%20%20%20%20%20%20%7B%22attribution%22%3A%20%22Data%20by%20%5Cu0026copy%3B%20%5Cu003ca%20href%3D%5C%22http%3A//openstreetmap.org%5C%22%5Cu003eOpenStreetMap%5Cu003c/a%5Cu003e%2C%20under%20%5Cu003ca%20href%3D%5C%22http%3A//www.openstreetmap.org/copyright%5C%22%5Cu003eODbL%5Cu003c/a%5Cu003e.%22%2C%20%22detectRetina%22%3A%20false%2C%20%22maxNativeZoom%22%3A%2018%2C%20%22maxZoom%22%3A%2018%2C%20%22minZoom%22%3A%200%2C%20%22noWrap%22%3A%20false%2C%20%22opacity%22%3A%201%2C%20%22subdomains%22%3A%20%22abc%22%2C%20%22tms%22%3A%20false%7D%0A%20%20%20%20%20%20%20%20%20%20%20%20%29.addTo%28map_c182aa62045d4b4e82cbaddd237173eb%29%3B%0A%20%20%20%20%20%20%20%20%0A%20%20%20%20%0A%20%20%20%20%20%20%20%20%20%20%20%20var%20marker_1ce3c08a598348bcb7c47921ed1dd0fc%20%3D%20L.marker%28%0A%20%20%20%20%20%20%20%20%20%20%20%20%20%20%20%20%5B40.10891%2C%20-83.09286%5D%2C%0A%20%20%20%20%20%20%20%20%20%20%20%20%20%20%20%20%7B%7D%0A%20%20%20%20%20%20%20%20%20%20%20%20%29.addTo%28map_c182aa62045d4b4e82cbaddd237173eb%29%3B%0A%20%20%20%20%20%20%20%20%0A%3C/script%3E onload=\"this.contentDocument.open();this.contentDocument.write(    decodeURIComponent(this.getAttribute('data-html')));this.contentDocument.close();\" allowfullscreen webkitallowfullscreen mozallowfullscreen></iframe></div></div>"
      ],
      "text/plain": [
       "<folium.folium.Map at 0x28e25217ac0>"
      ]
     },
     "execution_count": 68,
     "metadata": {},
     "output_type": "execute_result"
    }
   ],
   "source": [
    "map=folium.Map()\n",
    "marker=folium.Marker((lat,long))\n",
    "marker.add_to(map)\n",
    "map\n",
    "## This is how I plot the one lat and long in the world map using the folium module..."
   ]
  },
  {
   "cell_type": "markdown",
   "id": "bd7709c2",
   "metadata": {},
   "source": [
    "### Summary and Conclusion: Important part of the Analysis process:"
   ]
  },
  {
   "cell_type": "markdown",
   "id": "dd63cbe8",
   "metadata": {},
   "source": [
    "Insights:"
   ]
  },
  {
   "cell_type": "code",
   "execution_count": 113,
   "id": "7c98f380",
   "metadata": {},
   "outputs": [],
   "source": [
    "# 1. No data from the New York.\n",
    "# 2. The number of accidents per city decrases exponentially.\n",
    "# 2. Less than 2.35% of the cities have more than a thousands accidents..\n",
    "# 3. More than 97% of the cities have less than a 1000 accidents...\n",
    "# 4. more than 1200 cities have reported only one accident(need to investigate)."
   ]
  },
  {
   "cell_type": "markdown",
   "id": "1e76401f",
   "metadata": {},
   "source": [
    "Now somw questions arises as:-"
   ]
  },
  {
   "cell_type": "markdown",
   "id": "e0c85486",
   "metadata": {},
   "source": [
    "#### 1. Are there more accidents in warmer or coldest areas?"
   ]
  },
  {
   "cell_type": "code",
   "execution_count": 69,
   "id": "72b8ebbc",
   "metadata": {},
   "outputs": [
    {
     "data": {
      "text/html": [
       "<div>\n",
       "<style scoped>\n",
       "    .dataframe tbody tr th:only-of-type {\n",
       "        vertical-align: middle;\n",
       "    }\n",
       "\n",
       "    .dataframe tbody tr th {\n",
       "        vertical-align: top;\n",
       "    }\n",
       "\n",
       "    .dataframe thead th {\n",
       "        text-align: right;\n",
       "    }\n",
       "</style>\n",
       "<table border=\"1\" class=\"dataframe\">\n",
       "  <thead>\n",
       "    <tr style=\"text-align: right;\">\n",
       "      <th></th>\n",
       "      <th>ID</th>\n",
       "      <th>Severity</th>\n",
       "      <th>Start_Time</th>\n",
       "      <th>End_Time</th>\n",
       "      <th>Start_Lat</th>\n",
       "      <th>Start_Lng</th>\n",
       "      <th>End_Lat</th>\n",
       "      <th>End_Lng</th>\n",
       "      <th>Distance(mi)</th>\n",
       "      <th>Description</th>\n",
       "      <th>...</th>\n",
       "      <th>Roundabout</th>\n",
       "      <th>Station</th>\n",
       "      <th>Stop</th>\n",
       "      <th>Traffic_Calming</th>\n",
       "      <th>Traffic_Signal</th>\n",
       "      <th>Turning_Loop</th>\n",
       "      <th>Sunrise_Sunset</th>\n",
       "      <th>Civil_Twilight</th>\n",
       "      <th>Nautical_Twilight</th>\n",
       "      <th>Astronomical_Twilight</th>\n",
       "    </tr>\n",
       "  </thead>\n",
       "  <tbody>\n",
       "    <tr>\n",
       "      <th>0</th>\n",
       "      <td>A-2716600</td>\n",
       "      <td>3</td>\n",
       "      <td>2016-02-08 00:37:08</td>\n",
       "      <td>2016-02-08 06:37:08</td>\n",
       "      <td>40.10891</td>\n",
       "      <td>-83.09286</td>\n",
       "      <td>40.11206</td>\n",
       "      <td>-83.03187</td>\n",
       "      <td>3.23</td>\n",
       "      <td>Between Sawmill Rd/Exit 20 and OH-315/Olentang...</td>\n",
       "      <td>...</td>\n",
       "      <td>False</td>\n",
       "      <td>False</td>\n",
       "      <td>False</td>\n",
       "      <td>False</td>\n",
       "      <td>False</td>\n",
       "      <td>False</td>\n",
       "      <td>Night</td>\n",
       "      <td>Night</td>\n",
       "      <td>Night</td>\n",
       "      <td>Night</td>\n",
       "    </tr>\n",
       "  </tbody>\n",
       "</table>\n",
       "<p>1 rows × 47 columns</p>\n",
       "</div>"
      ],
      "text/plain": [
       "          ID  Severity          Start_Time             End_Time  Start_Lat  \\\n",
       "0  A-2716600         3 2016-02-08 00:37:08  2016-02-08 06:37:08   40.10891   \n",
       "\n",
       "   Start_Lng   End_Lat   End_Lng  Distance(mi)  \\\n",
       "0  -83.09286  40.11206 -83.03187          3.23   \n",
       "\n",
       "                                         Description  ...  Roundabout Station  \\\n",
       "0  Between Sawmill Rd/Exit 20 and OH-315/Olentang...  ...       False   False   \n",
       "\n",
       "    Stop Traffic_Calming Traffic_Signal Turning_Loop Sunrise_Sunset  \\\n",
       "0  False           False          False        False          Night   \n",
       "\n",
       "  Civil_Twilight Nautical_Twilight Astronomical_Twilight  \n",
       "0          Night             Night                 Night  \n",
       "\n",
       "[1 rows x 47 columns]"
      ]
     },
     "execution_count": 69,
     "metadata": {},
     "output_type": "execute_result"
    }
   ],
   "source": [
    "df.head(1)"
   ]
  },
  {
   "cell_type": "code",
   "execution_count": 70,
   "id": "bb1e9cc4",
   "metadata": {},
   "outputs": [
    {
     "data": {
      "text/plain": [
       "Index(['ID', 'Severity', 'Start_Time', 'End_Time', 'Start_Lat', 'Start_Lng',\n",
       "       'End_Lat', 'End_Lng', 'Distance(mi)', 'Description', 'Number', 'Street',\n",
       "       'Side', 'City', 'County', 'State', 'Zipcode', 'Country', 'Timezone',\n",
       "       'Airport_Code', 'Weather_Timestamp', 'Temperature(F)', 'Wind_Chill(F)',\n",
       "       'Humidity(%)', 'Pressure(in)', 'Visibility(mi)', 'Wind_Direction',\n",
       "       'Wind_Speed(mph)', 'Precipitation(in)', 'Weather_Condition', 'Amenity',\n",
       "       'Bump', 'Crossing', 'Give_Way', 'Junction', 'No_Exit', 'Railway',\n",
       "       'Roundabout', 'Station', 'Stop', 'Traffic_Calming', 'Traffic_Signal',\n",
       "       'Turning_Loop', 'Sunrise_Sunset', 'Civil_Twilight', 'Nautical_Twilight',\n",
       "       'Astronomical_Twilight'],\n",
       "      dtype='object')"
      ]
     },
     "execution_count": 70,
     "metadata": {},
     "output_type": "execute_result"
    }
   ],
   "source": [
    "df.columns"
   ]
  },
  {
   "cell_type": "code",
   "execution_count": 74,
   "id": "8cf91845",
   "metadata": {},
   "outputs": [
    {
     "data": {
      "text/plain": [
       "0          42.1\n",
       "1          36.9\n",
       "2          36.0\n",
       "3          36.0\n",
       "4          39.0\n",
       "           ... \n",
       "1516059    86.0\n",
       "1516060    70.0\n",
       "1516061    73.0\n",
       "1516062    71.0\n",
       "1516063    79.0\n",
       "Name: Temperature(F), Length: 1516064, dtype: float64"
      ]
     },
     "execution_count": 74,
     "metadata": {},
     "output_type": "execute_result"
    }
   ],
   "source": [
    "df[\"Temperature(F)\"]"
   ]
  },
  {
   "cell_type": "code",
   "execution_count": null,
   "id": "035c0c14",
   "metadata": {},
   "outputs": [],
   "source": []
  },
  {
   "cell_type": "markdown",
   "id": "c8f5676b",
   "metadata": {},
   "source": [
    "#### 2. Which 5 States have the highest number of Accidents? How about Per Capita?"
   ]
  },
  {
   "cell_type": "code",
   "execution_count": 86,
   "id": "623e31f2",
   "metadata": {},
   "outputs": [
    {
     "data": {
      "text/plain": [
       "CA    448833\n",
       "FL    153007\n",
       "OR     87484\n",
       "TX     75142\n",
       "NY     60974\n",
       "Name: State, dtype: int64"
      ]
     },
     "execution_count": 86,
     "metadata": {},
     "output_type": "execute_result"
    }
   ],
   "source": [
    "df[\"State\"].value_counts().sort_values(ascending=False).head(5)"
   ]
  },
  {
   "cell_type": "markdown",
   "id": "bac3e8eb",
   "metadata": {},
   "source": [
    "#### 3. Does New York show up in the data? If yes, why is the count lower if it is the most populated city in US?"
   ]
  },
  {
   "cell_type": "code",
   "execution_count": 97,
   "id": "a7467df2",
   "metadata": {},
   "outputs": [
    {
     "data": {
      "text/plain": [
       "CA    448833\n",
       "FL    153007\n",
       "OR     87484\n",
       "TX     75142\n",
       "NY     60974\n",
       "Name: State, dtype: int64"
      ]
     },
     "execution_count": 97,
     "metadata": {},
     "output_type": "execute_result"
    }
   ],
   "source": [
    "df.State.value_counts().head(5)\n",
    "# Yes New York has shown up in the data, as in terms of accidents it comes in 5th position ."
   ]
  },
  {
   "cell_type": "markdown",
   "id": "f6f54df4",
   "metadata": {},
   "source": [
    "#### 4. Among the top 100 cities in number of accidents, which states do they belong to most frequently?"
   ]
  },
  {
   "cell_type": "code",
   "execution_count": 123,
   "id": "d837fa82",
   "metadata": {},
   "outputs": [
    {
     "data": {
      "text/plain": [
       "Los Angeles    39984\n",
       "Miami          36233\n",
       "Charlotte      22203\n",
       "Houston        20843\n",
       "Dallas         19497\n",
       "               ...  \n",
       "Memphis         2221\n",
       "Ogden           2219\n",
       "Diamond Bar     2215\n",
       "Livermore       2200\n",
       "Fairfield       2188\n",
       "Name: City, Length: 100, dtype: int64"
      ]
     },
     "execution_count": 123,
     "metadata": {},
     "output_type": "execute_result"
    }
   ],
   "source": [
    "df[\"City\"].value_counts().head(100)"
   ]
  },
  {
   "cell_type": "markdown",
   "id": "5e945364",
   "metadata": {},
   "source": [
    "#### 5. What time of the day are accidents more frequent in?"
   ]
  },
  {
   "cell_type": "code",
   "execution_count": 136,
   "id": "d9a86771",
   "metadata": {},
   "outputs": [],
   "source": [
    "df[\"Start_Time\"]=pd.to_datetime(df[\"Start_Time\"])"
   ]
  },
  {
   "cell_type": "code",
   "execution_count": 140,
   "id": "6ead4f97",
   "metadata": {},
   "outputs": [],
   "source": [
    "df[\"Time\"]=df[\"Start_Time\"].dt.hour\n",
    "## I created a column of time .."
   ]
  },
  {
   "cell_type": "code",
   "execution_count": 143,
   "id": "bbcd640c",
   "metadata": {},
   "outputs": [
    {
     "data": {
      "text/plain": [
       "17    108011\n",
       "Name: Time, dtype: int64"
      ]
     },
     "execution_count": 143,
     "metadata": {},
     "output_type": "execute_result"
    }
   ],
   "source": [
    "df[\"Time\"].value_counts().sort_values(ascending=False).head(1)\n",
    "## So at 5pm there are most accidents took place.."
   ]
  },
  {
   "cell_type": "markdown",
   "id": "23f0cb6e",
   "metadata": {},
   "source": [
    "#### 6. Which days of the week have the most accidents?"
   ]
  },
  {
   "cell_type": "code",
   "execution_count": 144,
   "id": "578c7b3f",
   "metadata": {},
   "outputs": [],
   "source": [
    "'''Again creating a column:'''\n",
    "df[\"Days\"]=df[\"Start_Time\"].dt.day"
   ]
  },
  {
   "cell_type": "code",
   "execution_count": 146,
   "id": "9dfd9b21",
   "metadata": {},
   "outputs": [
    {
     "data": {
      "text/plain": [
       "23    55903\n",
       "12    54623\n",
       "24    54602\n",
       "30    54565\n",
       "22    53388\n",
       "13    52237\n",
       "19    52196\n",
       "18    52193\n",
       "28    51851\n",
       "20    51543\n",
       "11    51219\n",
       "21    51034\n",
       "29    50888\n",
       "17    50733\n",
       "10    50708\n",
       "25    49999\n",
       "16    49764\n",
       "14    49447\n",
       "26    49408\n",
       "9     49007\n",
       "27    48310\n",
       "7     47869\n",
       "8     47586\n",
       "15    46656\n",
       "6     46626\n",
       "3     44700\n",
       "1     44565\n",
       "2     42777\n",
       "5     41317\n",
       "4     39014\n",
       "31    31336\n",
       "Name: Days, dtype: int64"
      ]
     },
     "execution_count": 146,
     "metadata": {},
     "output_type": "execute_result"
    }
   ],
   "source": [
    "df[\"Days\"].value_counts().sort_values(ascending=False)\n",
    "## So 23rd there are more accident took place.."
   ]
  },
  {
   "cell_type": "markdown",
   "id": "3dc763b6",
   "metadata": {},
   "source": [
    "#### 7. Which months have the most accidents?"
   ]
  },
  {
   "cell_type": "code",
   "execution_count": 147,
   "id": "401b45d0",
   "metadata": {},
   "outputs": [],
   "source": [
    "df[\"Months\"]=df[\"Start_Time\"].dt.month"
   ]
  },
  {
   "cell_type": "code",
   "execution_count": 148,
   "id": "c0a5dd97",
   "metadata": {},
   "outputs": [
    {
     "data": {
      "text/plain": [
       "12    277489\n",
       "11    222031\n",
       "10    181074\n",
       "9     122906\n",
       "6     113048\n",
       "5     108195\n",
       "4     107007\n",
       "3      96802\n",
       "1      88540\n",
       "2      82419\n",
       "8      62903\n",
       "7      53650\n",
       "Name: Months, dtype: int64"
      ]
     },
     "execution_count": 148,
     "metadata": {},
     "output_type": "execute_result"
    }
   ],
   "source": [
    "df[\"Months\"].value_counts().sort_values(ascending=False)\n",
    "##In december there are most accidents took place..."
   ]
  },
  {
   "cell_type": "markdown",
   "id": "89516b97",
   "metadata": {},
   "source": [
    "#### 8. What is the trend of accidents year over year? (Decreasing/ Increasing)?"
   ]
  },
  {
   "cell_type": "code",
   "execution_count": 149,
   "id": "9facac26",
   "metadata": {},
   "outputs": [],
   "source": [
    "df[\"Year\"]=df[\"Start_Time\"].dt.year"
   ]
  },
  {
   "cell_type": "code",
   "execution_count": 151,
   "id": "fd683b66",
   "metadata": {},
   "outputs": [
    {
     "data": {
      "text/html": [
       "<div>\n",
       "<style scoped>\n",
       "    .dataframe tbody tr th:only-of-type {\n",
       "        vertical-align: middle;\n",
       "    }\n",
       "\n",
       "    .dataframe tbody tr th {\n",
       "        vertical-align: top;\n",
       "    }\n",
       "\n",
       "    .dataframe thead th {\n",
       "        text-align: right;\n",
       "    }\n",
       "</style>\n",
       "<table border=\"1\" class=\"dataframe\">\n",
       "  <thead>\n",
       "    <tr style=\"text-align: right;\">\n",
       "      <th></th>\n",
       "      <th>count</th>\n",
       "    </tr>\n",
       "    <tr>\n",
       "      <th>Year</th>\n",
       "      <th></th>\n",
       "    </tr>\n",
       "  </thead>\n",
       "  <tbody>\n",
       "    <tr>\n",
       "      <th>2016</th>\n",
       "      <td>129325</td>\n",
       "    </tr>\n",
       "    <tr>\n",
       "      <th>2017</th>\n",
       "      <td>170099</td>\n",
       "    </tr>\n",
       "    <tr>\n",
       "      <th>2018</th>\n",
       "      <td>166936</td>\n",
       "    </tr>\n",
       "    <tr>\n",
       "      <th>2019</th>\n",
       "      <td>261772</td>\n",
       "    </tr>\n",
       "    <tr>\n",
       "      <th>2020</th>\n",
       "      <td>787932</td>\n",
       "    </tr>\n",
       "  </tbody>\n",
       "</table>\n",
       "</div>"
      ],
      "text/plain": [
       "       count\n",
       "Year        \n",
       "2016  129325\n",
       "2017  170099\n",
       "2018  166936\n",
       "2019  261772\n",
       "2020  787932"
      ]
     },
     "execution_count": 151,
     "metadata": {},
     "output_type": "execute_result"
    }
   ],
   "source": [
    "df.groupby(\"Year\").aggregate([\"count\"])[\"Start_Time\"]"
   ]
  },
  {
   "cell_type": "markdown",
   "id": "3a0ee3f1",
   "metadata": {},
   "source": [
    "#### 9. When is accidents per unit of traffic is highest?"
   ]
  },
  {
   "cell_type": "code",
   "execution_count": null,
   "id": "5a208402",
   "metadata": {},
   "outputs": [],
   "source": []
  }
 ],
 "metadata": {
  "kernelspec": {
   "display_name": "Python 3",
   "language": "python",
   "name": "python3"
  },
  "language_info": {
   "codemirror_mode": {
    "name": "ipython",
    "version": 3
   },
   "file_extension": ".py",
   "mimetype": "text/x-python",
   "name": "python",
   "nbconvert_exporter": "python",
   "pygments_lexer": "ipython3",
   "version": "3.8.8"
  }
 },
 "nbformat": 4,
 "nbformat_minor": 5
}
